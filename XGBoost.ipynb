{
  "nbformat": 4,
  "nbformat_minor": 0,
  "metadata": {
    "colab": {
      "name": "XGBoost.ipynb",
      "provenance": [],
      "collapsed_sections": []
    },
    "kernelspec": {
      "display_name": "Python 3",
      "name": "python3"
    },
    "language_info": {
      "name": "python"
    }
  },
  "cells": [
    {
      "cell_type": "code",
      "metadata": {
        "id": "clu-KSYP3z6V"
      },
      "source": [
        "import numpy as np\n",
        "import pandas as pd\n",
        "import xgboost as xgb\n",
        "import seaborn as sns\n",
        "import matplotlib.pyplot as plt\n",
        "from sklearn.metrics import accuracy_score\n",
        "from xgboost import XGBClassifier as xgc\n",
        "train_set = pd.read_csv('adult.data', header = None)\n",
        "\n",
        "test_set = pd.read_csv('adult.test' , skiprows = 1, header = None)\n",
        "\n",
        "col_labels = ['age', 'workclass', 'fnlwgt', 'education', 'education_num','marital_status', 'occupation','relationship', 'race', 'sex','capital_gain','capital_loss','hours_per_week','native_country', 'wage_class']\n",
        "train_set.columns = col_labels\n",
        "test_set.columns = col_labels"
      ],
      "execution_count": 21,
      "outputs": []
    },
    {
      "cell_type": "code",
      "metadata": {
        "colab": {
          "base_uri": "https://localhost:8080/",
          "height": 307
        },
        "id": "wsqXM9Id4WVA",
        "outputId": "7101634d-3868-4fb7-9c23-b351f2555e30"
      },
      "source": [
        "train_set.head(5)"
      ],
      "execution_count": 22,
      "outputs": [
        {
          "output_type": "execute_result",
          "data": {
            "text/html": [
              "<div>\n",
              "<style scoped>\n",
              "    .dataframe tbody tr th:only-of-type {\n",
              "        vertical-align: middle;\n",
              "    }\n",
              "\n",
              "    .dataframe tbody tr th {\n",
              "        vertical-align: top;\n",
              "    }\n",
              "\n",
              "    .dataframe thead th {\n",
              "        text-align: right;\n",
              "    }\n",
              "</style>\n",
              "<table border=\"1\" class=\"dataframe\">\n",
              "  <thead>\n",
              "    <tr style=\"text-align: right;\">\n",
              "      <th></th>\n",
              "      <th>age</th>\n",
              "      <th>workclass</th>\n",
              "      <th>fnlwgt</th>\n",
              "      <th>education</th>\n",
              "      <th>education_num</th>\n",
              "      <th>marital_status</th>\n",
              "      <th>occupation</th>\n",
              "      <th>relationship</th>\n",
              "      <th>race</th>\n",
              "      <th>sex</th>\n",
              "      <th>capital_gain</th>\n",
              "      <th>capital_loss</th>\n",
              "      <th>hours_per_week</th>\n",
              "      <th>native_country</th>\n",
              "      <th>wage_class</th>\n",
              "    </tr>\n",
              "  </thead>\n",
              "  <tbody>\n",
              "    <tr>\n",
              "      <th>0</th>\n",
              "      <td>39</td>\n",
              "      <td>State-gov</td>\n",
              "      <td>77516</td>\n",
              "      <td>Bachelors</td>\n",
              "      <td>13</td>\n",
              "      <td>Never-married</td>\n",
              "      <td>Adm-clerical</td>\n",
              "      <td>Not-in-family</td>\n",
              "      <td>White</td>\n",
              "      <td>Male</td>\n",
              "      <td>2174</td>\n",
              "      <td>0</td>\n",
              "      <td>40</td>\n",
              "      <td>United-States</td>\n",
              "      <td>&lt;=50K</td>\n",
              "    </tr>\n",
              "    <tr>\n",
              "      <th>1</th>\n",
              "      <td>50</td>\n",
              "      <td>Self-emp-not-inc</td>\n",
              "      <td>83311</td>\n",
              "      <td>Bachelors</td>\n",
              "      <td>13</td>\n",
              "      <td>Married-civ-spouse</td>\n",
              "      <td>Exec-managerial</td>\n",
              "      <td>Husband</td>\n",
              "      <td>White</td>\n",
              "      <td>Male</td>\n",
              "      <td>0</td>\n",
              "      <td>0</td>\n",
              "      <td>13</td>\n",
              "      <td>United-States</td>\n",
              "      <td>&lt;=50K</td>\n",
              "    </tr>\n",
              "    <tr>\n",
              "      <th>2</th>\n",
              "      <td>38</td>\n",
              "      <td>Private</td>\n",
              "      <td>215646</td>\n",
              "      <td>HS-grad</td>\n",
              "      <td>9</td>\n",
              "      <td>Divorced</td>\n",
              "      <td>Handlers-cleaners</td>\n",
              "      <td>Not-in-family</td>\n",
              "      <td>White</td>\n",
              "      <td>Male</td>\n",
              "      <td>0</td>\n",
              "      <td>0</td>\n",
              "      <td>40</td>\n",
              "      <td>United-States</td>\n",
              "      <td>&lt;=50K</td>\n",
              "    </tr>\n",
              "    <tr>\n",
              "      <th>3</th>\n",
              "      <td>53</td>\n",
              "      <td>Private</td>\n",
              "      <td>234721</td>\n",
              "      <td>11th</td>\n",
              "      <td>7</td>\n",
              "      <td>Married-civ-spouse</td>\n",
              "      <td>Handlers-cleaners</td>\n",
              "      <td>Husband</td>\n",
              "      <td>Black</td>\n",
              "      <td>Male</td>\n",
              "      <td>0</td>\n",
              "      <td>0</td>\n",
              "      <td>40</td>\n",
              "      <td>United-States</td>\n",
              "      <td>&lt;=50K</td>\n",
              "    </tr>\n",
              "    <tr>\n",
              "      <th>4</th>\n",
              "      <td>28</td>\n",
              "      <td>Private</td>\n",
              "      <td>338409</td>\n",
              "      <td>Bachelors</td>\n",
              "      <td>13</td>\n",
              "      <td>Married-civ-spouse</td>\n",
              "      <td>Prof-specialty</td>\n",
              "      <td>Wife</td>\n",
              "      <td>Black</td>\n",
              "      <td>Female</td>\n",
              "      <td>0</td>\n",
              "      <td>0</td>\n",
              "      <td>40</td>\n",
              "      <td>Cuba</td>\n",
              "      <td>&lt;=50K</td>\n",
              "    </tr>\n",
              "  </tbody>\n",
              "</table>\n",
              "</div>"
            ],
            "text/plain": [
              "   age          workclass  fnlwgt  ... hours_per_week  native_country wage_class\n",
              "0   39          State-gov   77516  ...             40   United-States      <=50K\n",
              "1   50   Self-emp-not-inc   83311  ...             13   United-States      <=50K\n",
              "2   38            Private  215646  ...             40   United-States      <=50K\n",
              "3   53            Private  234721  ...             40   United-States      <=50K\n",
              "4   28            Private  338409  ...             40            Cuba      <=50K\n",
              "\n",
              "[5 rows x 15 columns]"
            ]
          },
          "metadata": {},
          "execution_count": 22
        }
      ]
    },
    {
      "cell_type": "code",
      "metadata": {
        "colab": {
          "base_uri": "https://localhost:8080/"
        },
        "id": "6wFitctdB7_k",
        "outputId": "bdf019e3-e3c4-4f0f-b754-7e163680c713"
      },
      "source": [
        "print(\"Train dataset shape: \",train_set.shape)"
      ],
      "execution_count": 23,
      "outputs": [
        {
          "output_type": "stream",
          "name": "stdout",
          "text": [
            "Train dataset shape:  (32561, 15)\n"
          ]
        }
      ]
    },
    {
      "cell_type": "code",
      "metadata": {
        "colab": {
          "base_uri": "https://localhost:8080/",
          "height": 307
        },
        "id": "xm46UTKK-1m5",
        "outputId": "6f8b55ed-0632-4c62-ba50-08c27e675e1a"
      },
      "source": [
        "test_set.head(5)"
      ],
      "execution_count": 24,
      "outputs": [
        {
          "output_type": "execute_result",
          "data": {
            "text/html": [
              "<div>\n",
              "<style scoped>\n",
              "    .dataframe tbody tr th:only-of-type {\n",
              "        vertical-align: middle;\n",
              "    }\n",
              "\n",
              "    .dataframe tbody tr th {\n",
              "        vertical-align: top;\n",
              "    }\n",
              "\n",
              "    .dataframe thead th {\n",
              "        text-align: right;\n",
              "    }\n",
              "</style>\n",
              "<table border=\"1\" class=\"dataframe\">\n",
              "  <thead>\n",
              "    <tr style=\"text-align: right;\">\n",
              "      <th></th>\n",
              "      <th>age</th>\n",
              "      <th>workclass</th>\n",
              "      <th>fnlwgt</th>\n",
              "      <th>education</th>\n",
              "      <th>education_num</th>\n",
              "      <th>marital_status</th>\n",
              "      <th>occupation</th>\n",
              "      <th>relationship</th>\n",
              "      <th>race</th>\n",
              "      <th>sex</th>\n",
              "      <th>capital_gain</th>\n",
              "      <th>capital_loss</th>\n",
              "      <th>hours_per_week</th>\n",
              "      <th>native_country</th>\n",
              "      <th>wage_class</th>\n",
              "    </tr>\n",
              "  </thead>\n",
              "  <tbody>\n",
              "    <tr>\n",
              "      <th>0</th>\n",
              "      <td>25</td>\n",
              "      <td>Private</td>\n",
              "      <td>226802</td>\n",
              "      <td>11th</td>\n",
              "      <td>7</td>\n",
              "      <td>Never-married</td>\n",
              "      <td>Machine-op-inspct</td>\n",
              "      <td>Own-child</td>\n",
              "      <td>Black</td>\n",
              "      <td>Male</td>\n",
              "      <td>0</td>\n",
              "      <td>0</td>\n",
              "      <td>40</td>\n",
              "      <td>United-States</td>\n",
              "      <td>&lt;=50K.</td>\n",
              "    </tr>\n",
              "    <tr>\n",
              "      <th>1</th>\n",
              "      <td>38</td>\n",
              "      <td>Private</td>\n",
              "      <td>89814</td>\n",
              "      <td>HS-grad</td>\n",
              "      <td>9</td>\n",
              "      <td>Married-civ-spouse</td>\n",
              "      <td>Farming-fishing</td>\n",
              "      <td>Husband</td>\n",
              "      <td>White</td>\n",
              "      <td>Male</td>\n",
              "      <td>0</td>\n",
              "      <td>0</td>\n",
              "      <td>50</td>\n",
              "      <td>United-States</td>\n",
              "      <td>&lt;=50K.</td>\n",
              "    </tr>\n",
              "    <tr>\n",
              "      <th>2</th>\n",
              "      <td>28</td>\n",
              "      <td>Local-gov</td>\n",
              "      <td>336951</td>\n",
              "      <td>Assoc-acdm</td>\n",
              "      <td>12</td>\n",
              "      <td>Married-civ-spouse</td>\n",
              "      <td>Protective-serv</td>\n",
              "      <td>Husband</td>\n",
              "      <td>White</td>\n",
              "      <td>Male</td>\n",
              "      <td>0</td>\n",
              "      <td>0</td>\n",
              "      <td>40</td>\n",
              "      <td>United-States</td>\n",
              "      <td>&gt;50K.</td>\n",
              "    </tr>\n",
              "    <tr>\n",
              "      <th>3</th>\n",
              "      <td>44</td>\n",
              "      <td>Private</td>\n",
              "      <td>160323</td>\n",
              "      <td>Some-college</td>\n",
              "      <td>10</td>\n",
              "      <td>Married-civ-spouse</td>\n",
              "      <td>Machine-op-inspct</td>\n",
              "      <td>Husband</td>\n",
              "      <td>Black</td>\n",
              "      <td>Male</td>\n",
              "      <td>7688</td>\n",
              "      <td>0</td>\n",
              "      <td>40</td>\n",
              "      <td>United-States</td>\n",
              "      <td>&gt;50K.</td>\n",
              "    </tr>\n",
              "    <tr>\n",
              "      <th>4</th>\n",
              "      <td>18</td>\n",
              "      <td>?</td>\n",
              "      <td>103497</td>\n",
              "      <td>Some-college</td>\n",
              "      <td>10</td>\n",
              "      <td>Never-married</td>\n",
              "      <td>?</td>\n",
              "      <td>Own-child</td>\n",
              "      <td>White</td>\n",
              "      <td>Female</td>\n",
              "      <td>0</td>\n",
              "      <td>0</td>\n",
              "      <td>30</td>\n",
              "      <td>United-States</td>\n",
              "      <td>&lt;=50K.</td>\n",
              "    </tr>\n",
              "  </tbody>\n",
              "</table>\n",
              "</div>"
            ],
            "text/plain": [
              "   age   workclass  fnlwgt  ... hours_per_week  native_country wage_class\n",
              "0   25     Private  226802  ...             40   United-States     <=50K.\n",
              "1   38     Private   89814  ...             50   United-States     <=50K.\n",
              "2   28   Local-gov  336951  ...             40   United-States      >50K.\n",
              "3   44     Private  160323  ...             40   United-States      >50K.\n",
              "4   18           ?  103497  ...             30   United-States     <=50K.\n",
              "\n",
              "[5 rows x 15 columns]"
            ]
          },
          "metadata": {},
          "execution_count": 24
        }
      ]
    },
    {
      "cell_type": "code",
      "metadata": {
        "colab": {
          "base_uri": "https://localhost:8080/"
        },
        "id": "2KrrIZpkCDB3",
        "outputId": "80a2a594-9ed5-4274-889c-a7026ac25934"
      },
      "source": [
        "print(\"Test dataset shape: \",test_set.shape)"
      ],
      "execution_count": 25,
      "outputs": [
        {
          "output_type": "stream",
          "name": "stdout",
          "text": [
            "Test dataset shape:  (16281, 15)\n"
          ]
        }
      ]
    },
    {
      "cell_type": "code",
      "metadata": {
        "colab": {
          "base_uri": "https://localhost:8080/"
        },
        "id": "NPU-_1gC-54q",
        "outputId": "452f0cf8-5288-4b9d-8a55-2c63068505bc"
      },
      "source": [
        "train_set.info()"
      ],
      "execution_count": 26,
      "outputs": [
        {
          "output_type": "stream",
          "name": "stdout",
          "text": [
            "<class 'pandas.core.frame.DataFrame'>\n",
            "RangeIndex: 32561 entries, 0 to 32560\n",
            "Data columns (total 15 columns):\n",
            " #   Column          Non-Null Count  Dtype \n",
            "---  ------          --------------  ----- \n",
            " 0   age             32561 non-null  int64 \n",
            " 1   workclass       32561 non-null  object\n",
            " 2   fnlwgt          32561 non-null  int64 \n",
            " 3   education       32561 non-null  object\n",
            " 4   education_num   32561 non-null  int64 \n",
            " 5   marital_status  32561 non-null  object\n",
            " 6   occupation      32561 non-null  object\n",
            " 7   relationship    32561 non-null  object\n",
            " 8   race            32561 non-null  object\n",
            " 9   sex             32561 non-null  object\n",
            " 10  capital_gain    32561 non-null  int64 \n",
            " 11  capital_loss    32561 non-null  int64 \n",
            " 12  hours_per_week  32561 non-null  int64 \n",
            " 13  native_country  32561 non-null  object\n",
            " 14  wage_class      32561 non-null  object\n",
            "dtypes: int64(6), object(9)\n",
            "memory usage: 3.7+ MB\n"
          ]
        }
      ]
    },
    {
      "cell_type": "code",
      "metadata": {
        "colab": {
          "base_uri": "https://localhost:8080/",
          "height": 295
        },
        "id": "UND3fUsx-57f",
        "outputId": "ffa6a013-c282-4c88-a56e-e6d889e6546c"
      },
      "source": [
        "train_set.describe()"
      ],
      "execution_count": 27,
      "outputs": [
        {
          "output_type": "execute_result",
          "data": {
            "text/html": [
              "<div>\n",
              "<style scoped>\n",
              "    .dataframe tbody tr th:only-of-type {\n",
              "        vertical-align: middle;\n",
              "    }\n",
              "\n",
              "    .dataframe tbody tr th {\n",
              "        vertical-align: top;\n",
              "    }\n",
              "\n",
              "    .dataframe thead th {\n",
              "        text-align: right;\n",
              "    }\n",
              "</style>\n",
              "<table border=\"1\" class=\"dataframe\">\n",
              "  <thead>\n",
              "    <tr style=\"text-align: right;\">\n",
              "      <th></th>\n",
              "      <th>age</th>\n",
              "      <th>fnlwgt</th>\n",
              "      <th>education_num</th>\n",
              "      <th>capital_gain</th>\n",
              "      <th>capital_loss</th>\n",
              "      <th>hours_per_week</th>\n",
              "    </tr>\n",
              "  </thead>\n",
              "  <tbody>\n",
              "    <tr>\n",
              "      <th>count</th>\n",
              "      <td>32561.000000</td>\n",
              "      <td>3.256100e+04</td>\n",
              "      <td>32561.000000</td>\n",
              "      <td>32561.000000</td>\n",
              "      <td>32561.000000</td>\n",
              "      <td>32561.000000</td>\n",
              "    </tr>\n",
              "    <tr>\n",
              "      <th>mean</th>\n",
              "      <td>38.581647</td>\n",
              "      <td>1.897784e+05</td>\n",
              "      <td>10.080679</td>\n",
              "      <td>1077.648844</td>\n",
              "      <td>87.303830</td>\n",
              "      <td>40.437456</td>\n",
              "    </tr>\n",
              "    <tr>\n",
              "      <th>std</th>\n",
              "      <td>13.640433</td>\n",
              "      <td>1.055500e+05</td>\n",
              "      <td>2.572720</td>\n",
              "      <td>7385.292085</td>\n",
              "      <td>402.960219</td>\n",
              "      <td>12.347429</td>\n",
              "    </tr>\n",
              "    <tr>\n",
              "      <th>min</th>\n",
              "      <td>17.000000</td>\n",
              "      <td>1.228500e+04</td>\n",
              "      <td>1.000000</td>\n",
              "      <td>0.000000</td>\n",
              "      <td>0.000000</td>\n",
              "      <td>1.000000</td>\n",
              "    </tr>\n",
              "    <tr>\n",
              "      <th>25%</th>\n",
              "      <td>28.000000</td>\n",
              "      <td>1.178270e+05</td>\n",
              "      <td>9.000000</td>\n",
              "      <td>0.000000</td>\n",
              "      <td>0.000000</td>\n",
              "      <td>40.000000</td>\n",
              "    </tr>\n",
              "    <tr>\n",
              "      <th>50%</th>\n",
              "      <td>37.000000</td>\n",
              "      <td>1.783560e+05</td>\n",
              "      <td>10.000000</td>\n",
              "      <td>0.000000</td>\n",
              "      <td>0.000000</td>\n",
              "      <td>40.000000</td>\n",
              "    </tr>\n",
              "    <tr>\n",
              "      <th>75%</th>\n",
              "      <td>48.000000</td>\n",
              "      <td>2.370510e+05</td>\n",
              "      <td>12.000000</td>\n",
              "      <td>0.000000</td>\n",
              "      <td>0.000000</td>\n",
              "      <td>45.000000</td>\n",
              "    </tr>\n",
              "    <tr>\n",
              "      <th>max</th>\n",
              "      <td>90.000000</td>\n",
              "      <td>1.484705e+06</td>\n",
              "      <td>16.000000</td>\n",
              "      <td>99999.000000</td>\n",
              "      <td>4356.000000</td>\n",
              "      <td>99.000000</td>\n",
              "    </tr>\n",
              "  </tbody>\n",
              "</table>\n",
              "</div>"
            ],
            "text/plain": [
              "                age        fnlwgt  ...  capital_loss  hours_per_week\n",
              "count  32561.000000  3.256100e+04  ...  32561.000000    32561.000000\n",
              "mean      38.581647  1.897784e+05  ...     87.303830       40.437456\n",
              "std       13.640433  1.055500e+05  ...    402.960219       12.347429\n",
              "min       17.000000  1.228500e+04  ...      0.000000        1.000000\n",
              "25%       28.000000  1.178270e+05  ...      0.000000       40.000000\n",
              "50%       37.000000  1.783560e+05  ...      0.000000       40.000000\n",
              "75%       48.000000  2.370510e+05  ...      0.000000       45.000000\n",
              "max       90.000000  1.484705e+06  ...   4356.000000       99.000000\n",
              "\n",
              "[8 rows x 6 columns]"
            ]
          },
          "metadata": {},
          "execution_count": 27
        }
      ]
    },
    {
      "cell_type": "code",
      "metadata": {
        "colab": {
          "base_uri": "https://localhost:8080/"
        },
        "id": "eUYDR9iu-592",
        "outputId": "de7d7c64-2a84-4d9e-eaed-3e62e23c34c7"
      },
      "source": [
        "train_set.isin([' ?']).sum()"
      ],
      "execution_count": 28,
      "outputs": [
        {
          "output_type": "execute_result",
          "data": {
            "text/plain": [
              "age                  0\n",
              "workclass         1836\n",
              "fnlwgt               0\n",
              "education            0\n",
              "education_num        0\n",
              "marital_status       0\n",
              "occupation        1843\n",
              "relationship         0\n",
              "race                 0\n",
              "sex                  0\n",
              "capital_gain         0\n",
              "capital_loss         0\n",
              "hours_per_week       0\n",
              "native_country     583\n",
              "wage_class           0\n",
              "dtype: int64"
            ]
          },
          "metadata": {},
          "execution_count": 28
        }
      ]
    },
    {
      "cell_type": "code",
      "metadata": {
        "colab": {
          "base_uri": "https://localhost:8080/",
          "height": 358
        },
        "id": "2jQ25VkA-6Ai",
        "outputId": "14677069-0b80-4cf5-e12c-670b8f442665"
      },
      "source": [
        "sns.heatmap(train_set.isnull())"
      ],
      "execution_count": 29,
      "outputs": [
        {
          "output_type": "execute_result",
          "data": {
            "text/plain": [
              "<matplotlib.axes._subplots.AxesSubplot at 0x7f8e7cfeb590>"
            ]
          },
          "metadata": {},
          "execution_count": 29
        },
        {
          "output_type": "display_data",
          "data": {
            "image/png": "[encoded data removed]",
            "text/plain": [
              "<Figure size 432x288 with 2 Axes>"
            ]
          },
          "metadata": {
            "needs_background": "light"
          }
        }
      ]
    },
    {
      "cell_type": "code",
      "metadata": {
        "id": "uataorps-6Ix"
      },
      "source": [
        "train_set['workclass'] = train_set['workclass'].replace(' ?',np.nan)\n",
        "train_set['occupation'] = train_set['occupation'].replace(' ?',np.nan)\n",
        "train_set['native_country'] = train_set['native_country'].replace(' ?',np.nan)"
      ],
      "execution_count": 30,
      "outputs": []
    },
    {
      "cell_type": "code",
      "metadata": {
        "colab": {
          "base_uri": "https://localhost:8080/"
        },
        "id": "zNzHElwk-6La",
        "outputId": "fea3d877-f486-47f6-c758-f6c722bc9dc9"
      },
      "source": [
        "train_set.isin([' ?']).sum()"
      ],
      "execution_count": 31,
      "outputs": [
        {
          "output_type": "execute_result",
          "data": {
            "text/plain": [
              "age               0\n",
              "workclass         0\n",
              "fnlwgt            0\n",
              "education         0\n",
              "education_num     0\n",
              "marital_status    0\n",
              "occupation        0\n",
              "relationship      0\n",
              "race              0\n",
              "sex               0\n",
              "capital_gain      0\n",
              "capital_loss      0\n",
              "hours_per_week    0\n",
              "native_country    0\n",
              "wage_class        0\n",
              "dtype: int64"
            ]
          },
          "metadata": {},
          "execution_count": 31
        }
      ]
    },
    {
      "cell_type": "code",
      "metadata": {
        "colab": {
          "base_uri": "https://localhost:8080/",
          "height": 358
        },
        "id": "lesI8uMc-6OP",
        "outputId": "ef22ce61-ceb4-4020-a2ee-3e21fbbe5650"
      },
      "source": [
        "sns.heatmap(train_set.isnull())"
      ],
      "execution_count": 32,
      "outputs": [
        {
          "output_type": "execute_result",
          "data": {
            "text/plain": [
              "<matplotlib.axes._subplots.AxesSubplot at 0x7f8e72ca09d0>"
            ]
          },
          "metadata": {},
          "execution_count": 32
        },
        {
          "output_type": "display_data",
          "data": {
            "image/png": "[encoded data removed]",
            "text/plain": [
              "<Figure size 432x288 with 2 Axes>"
            ]
          },
          "metadata": {
            "needs_background": "light"
          }
        }
      ]
    },
    {
      "cell_type": "code",
      "metadata": {
        "colab": {
          "base_uri": "https://localhost:8080/"
        },
        "id": "PdtiKTWm-6Q0",
        "outputId": "45c3155f-3763-486a-b7f3-74263401deb6"
      },
      "source": [
        "train_set = train_set.dropna()\n",
        "train_set.shape"
      ],
      "execution_count": 33,
      "outputs": [
        {
          "output_type": "execute_result",
          "data": {
            "text/plain": [
              "(30162, 15)"
            ]
          },
          "metadata": {},
          "execution_count": 33
        }
      ]
    },
    {
      "cell_type": "code",
      "metadata": {
        "colab": {
          "base_uri": "https://localhost:8080/"
        },
        "id": "IgFa5CymCbVX",
        "outputId": "27f09221-7619-41de-cea5-3ce80ff53a22"
      },
      "source": [
        "train_set.capital_gain.value_counts()"
      ],
      "execution_count": 34,
      "outputs": [
        {
          "output_type": "execute_result",
          "data": {
            "text/plain": [
              "0        27624\n",
              "15024      337\n",
              "7688       270\n",
              "7298       240\n",
              "99999      148\n",
              "         ...  \n",
              "401          1\n",
              "22040        1\n",
              "4931         1\n",
              "1455         1\n",
              "1639         1\n",
              "Name: capital_gain, Length: 118, dtype: int64"
            ]
          },
          "metadata": {},
          "execution_count": 34
        }
      ]
    },
    {
      "cell_type": "code",
      "metadata": {
        "colab": {
          "base_uri": "https://localhost:8080/"
        },
        "id": "dPqzEwznDVA7",
        "outputId": "f3044887-5202-4419-ab04-0b1cac4af185"
      },
      "source": [
        "train_set.capital_loss.value_counts()"
      ],
      "execution_count": 35,
      "outputs": [
        {
          "output_type": "execute_result",
          "data": {
            "text/plain": [
              "0       28735\n",
              "1902      194\n",
              "1977      162\n",
              "1887      155\n",
              "1848       50\n",
              "        ...  \n",
              "419         1\n",
              "1411        1\n",
              "1539        1\n",
              "2472        1\n",
              "2467        1\n",
              "Name: capital_loss, Length: 90, dtype: int64"
            ]
          },
          "metadata": {},
          "execution_count": 35
        }
      ]
    },
    {
      "cell_type": "code",
      "metadata": {
        "id": "wXxo19v-DYmq",
        "colab": {
          "base_uri": "https://localhost:8080/"
        },
        "outputId": "72c3e2dc-d0e7-47a3-eaf3-3540b47b9109"
      },
      "source": [
        "train_set.drop(['capital_gain','capital_loss'],inplace=True,axis=1)"
      ],
      "execution_count": 36,
      "outputs": [
        {
          "output_type": "stream",
          "name": "stderr",
          "text": [
            "/usr/local/lib/python3.7/dist-packages/pandas/core/frame.py:4174: SettingWithCopyWarning: \n",
            "A value is trying to be set on a copy of a slice from a DataFrame\n",
            "\n",
            "See the caveats in the documentation: https://pandas.pydata.org/pandas-docs/stable/user_guide/indexing.html#returning-a-view-versus-a-copy\n",
            "  errors=errors,\n"
          ]
        }
      ]
    },
    {
      "cell_type": "code",
      "metadata": {
        "colab": {
          "base_uri": "https://localhost:8080/"
        },
        "id": "E-lIdnJ-Dibt",
        "outputId": "d3cf3212-46a3-4ce3-ab29-a716782c3013"
      },
      "source": [
        "train_set.shape"
      ],
      "execution_count": 37,
      "outputs": [
        {
          "output_type": "execute_result",
          "data": {
            "text/plain": [
              "(30162, 13)"
            ]
          },
          "metadata": {},
          "execution_count": 37
        }
      ]
    },
    {
      "cell_type": "code",
      "metadata": {
        "colab": {
          "base_uri": "https://localhost:8080/"
        },
        "id": "PGCIe1NjGuRJ",
        "outputId": "e4c5c266-9b28-491a-f702-8a10e39c8671"
      },
      "source": [
        "train_set.wage_class.unique()"
      ],
      "execution_count": 38,
      "outputs": [
        {
          "output_type": "execute_result",
          "data": {
            "text/plain": [
              "array([' <=50K', ' >50K'], dtype=object)"
            ]
          },
          "metadata": {},
          "execution_count": 38
        }
      ]
    },
    {
      "cell_type": "code",
      "metadata": {
        "id": "dLd4mYFHGViA"
      },
      "source": [
        "train_set['outcome'] = train_set.wage_class.map({' <=50K':0,' >50K':1})"
      ],
      "execution_count": 39,
      "outputs": []
    },
    {
      "cell_type": "code",
      "metadata": {
        "id": "RVoRWHHuG8qi"
      },
      "source": [
        "train_set.drop(['wage_class'],inplace=True,axis=1)"
      ],
      "execution_count": 40,
      "outputs": []
    },
    {
      "cell_type": "code",
      "metadata": {
        "colab": {
          "base_uri": "https://localhost:8080/",
          "height": 117
        },
        "id": "qBiIFN9EH4LI",
        "outputId": "5559fcb3-1dcb-4462-ee41-86a79ec04805"
      },
      "source": [
        "train_set.head(1)"
      ],
      "execution_count": 41,
      "outputs": [
        {
          "output_type": "execute_result",
          "data": {
            "text/html": [
              "<div>\n",
              "<style scoped>\n",
              "    .dataframe tbody tr th:only-of-type {\n",
              "        vertical-align: middle;\n",
              "    }\n",
              "\n",
              "    .dataframe tbody tr th {\n",
              "        vertical-align: top;\n",
              "    }\n",
              "\n",
              "    .dataframe thead th {\n",
              "        text-align: right;\n",
              "    }\n",
              "</style>\n",
              "<table border=\"1\" class=\"dataframe\">\n",
              "  <thead>\n",
              "    <tr style=\"text-align: right;\">\n",
              "      <th></th>\n",
              "      <th>age</th>\n",
              "      <th>workclass</th>\n",
              "      <th>fnlwgt</th>\n",
              "      <th>education</th>\n",
              "      <th>education_num</th>\n",
              "      <th>marital_status</th>\n",
              "      <th>occupation</th>\n",
              "      <th>relationship</th>\n",
              "      <th>race</th>\n",
              "      <th>sex</th>\n",
              "      <th>hours_per_week</th>\n",
              "      <th>native_country</th>\n",
              "      <th>outcome</th>\n",
              "    </tr>\n",
              "  </thead>\n",
              "  <tbody>\n",
              "    <tr>\n",
              "      <th>0</th>\n",
              "      <td>39</td>\n",
              "      <td>State-gov</td>\n",
              "      <td>77516</td>\n",
              "      <td>Bachelors</td>\n",
              "      <td>13</td>\n",
              "      <td>Never-married</td>\n",
              "      <td>Adm-clerical</td>\n",
              "      <td>Not-in-family</td>\n",
              "      <td>White</td>\n",
              "      <td>Male</td>\n",
              "      <td>40</td>\n",
              "      <td>United-States</td>\n",
              "      <td>0</td>\n",
              "    </tr>\n",
              "  </tbody>\n",
              "</table>\n",
              "</div>"
            ],
            "text/plain": [
              "   age   workclass  fnlwgt  ... hours_per_week  native_country outcome\n",
              "0   39   State-gov   77516  ...             40   United-States       0\n",
              "\n",
              "[1 rows x 13 columns]"
            ]
          },
          "metadata": {},
          "execution_count": 41
        }
      ]
    },
    {
      "cell_type": "code",
      "metadata": {
        "colab": {
          "base_uri": "https://localhost:8080/"
        },
        "id": "IsTv4263WoQf",
        "outputId": "d9353f7a-1d9c-4268-867d-9c210e4cd75b"
      },
      "source": [
        "train_set.groupby('race')['outcome'].mean()"
      ],
      "execution_count": 42,
      "outputs": [
        {
          "output_type": "execute_result",
          "data": {
            "text/plain": [
              "race\n",
              " Amer-Indian-Eskimo    0.118881\n",
              " Asian-Pac-Islander    0.277095\n",
              " Black                 0.129925\n",
              " Other                 0.090909\n",
              " White                 0.263718\n",
              "Name: outcome, dtype: float64"
            ]
          },
          "metadata": {},
          "execution_count": 42
        }
      ]
    },
    {
      "cell_type": "code",
      "metadata": {
        "id": "tcvVdLW3ILN8"
      },
      "source": [
        "train_set.groupby('relationship')['outcome'].mean().sort_values(ascending=False)\n",
        "train_set['relationship'] = train_set['relationship'].replace(['Unmarried','other-relative','Own-child'],np.nan)"
      ],
      "execution_count": 43,
      "outputs": []
    },
    {
      "cell_type": "code",
      "metadata": {
        "colab": {
          "base_uri": "https://localhost:8080/"
        },
        "id": "0Vxn8tS1ISEk",
        "outputId": "3272070e-8117-40ba-b1da-ad33641d7de1"
      },
      "source": [
        "train_set.groupby('sex')['outcome'].mean()"
      ],
      "execution_count": 44,
      "outputs": [
        {
          "output_type": "execute_result",
          "data": {
            "text/plain": [
              "sex\n",
              " Female    0.113678\n",
              " Male      0.313837\n",
              "Name: outcome, dtype: float64"
            ]
          },
          "metadata": {},
          "execution_count": 44
        }
      ]
    },
    {
      "cell_type": "code",
      "metadata": {
        "id": "OqhopRL0IF9x"
      },
      "source": [
        "train_set.groupby('occupation')['outcome'].mean().sort_values(ascending=False)\n",
        "train_set['occupation'] = train_set['occupation'].replace([' Handlers-cleaners',' Other-service',' Priv-hoouse-serv'],np.nan)"
      ],
      "execution_count": 45,
      "outputs": []
    },
    {
      "cell_type": "code",
      "metadata": {
        "id": "kO44k5WeHYdH"
      },
      "source": [
        "train_set.groupby('workclass')['outcome'].mean().sort_values(ascending=False)\n",
        "train_set['workclass'] = train_set['workclass'].replace([' Without-pay'],np.nan)"
      ],
      "execution_count": 46,
      "outputs": []
    },
    {
      "cell_type": "code",
      "metadata": {
        "id": "pGkUzCybH2Le"
      },
      "source": [
        "train_set.groupby('education')['outcome'].mean().sort_values( ascending=False)\n",
        "train_set['education'] = train_set['education'].replace([' 12th',' 10th',' 7th-8th',' 11th',' 9th',' 5th-6th',' 1st-4th','Preschool'],np.nan)"
      ],
      "execution_count": 47,
      "outputs": []
    },
    {
      "cell_type": "code",
      "metadata": {
        "id": "9dmkG6HGH_2e"
      },
      "source": [
        "train_set.groupby('marital_status')['outcome'].mean().sort_values(ascending=False)\n",
        "train_set['marital_status'] = train_set['marital_status'].replace([' Widowed',' Married-spouse-absent',' Never-married',' Separated'],np.nan)"
      ],
      "execution_count": 48,
      "outputs": []
    },
    {
      "cell_type": "code",
      "metadata": {
        "id": "ZLeYyJ6lXiUh"
      },
      "source": [
        "train_set.drop(['race','hours_per_week'],inplace=True,axis=1)"
      ],
      "execution_count": 49,
      "outputs": []
    },
    {
      "cell_type": "code",
      "metadata": {
        "colab": {
          "base_uri": "https://localhost:8080/",
          "height": 417
        },
        "id": "IsA-8fByXiXY",
        "outputId": "ce960f94-7a1e-42de-de90-6c98414a51f9"
      },
      "source": [
        "train_set"
      ],
      "execution_count": 50,
      "outputs": [
        {
          "output_type": "execute_result",
          "data": {
            "text/html": [
              "<div>\n",
              "<style scoped>\n",
              "    .dataframe tbody tr th:only-of-type {\n",
              "        vertical-align: middle;\n",
              "    }\n",
              "\n",
              "    .dataframe tbody tr th {\n",
              "        vertical-align: top;\n",
              "    }\n",
              "\n",
              "    .dataframe thead th {\n",
              "        text-align: right;\n",
              "    }\n",
              "</style>\n",
              "<table border=\"1\" class=\"dataframe\">\n",
              "  <thead>\n",
              "    <tr style=\"text-align: right;\">\n",
              "      <th></th>\n",
              "      <th>age</th>\n",
              "      <th>workclass</th>\n",
              "      <th>fnlwgt</th>\n",
              "      <th>education</th>\n",
              "      <th>education_num</th>\n",
              "      <th>marital_status</th>\n",
              "      <th>occupation</th>\n",
              "      <th>relationship</th>\n",
              "      <th>sex</th>\n",
              "      <th>native_country</th>\n",
              "      <th>outcome</th>\n",
              "    </tr>\n",
              "  </thead>\n",
              "  <tbody>\n",
              "    <tr>\n",
              "      <th>0</th>\n",
              "      <td>39</td>\n",
              "      <td>State-gov</td>\n",
              "      <td>77516</td>\n",
              "      <td>Bachelors</td>\n",
              "      <td>13</td>\n",
              "      <td>NaN</td>\n",
              "      <td>Adm-clerical</td>\n",
              "      <td>Not-in-family</td>\n",
              "      <td>Male</td>\n",
              "      <td>United-States</td>\n",
              "      <td>0</td>\n",
              "    </tr>\n",
              "    <tr>\n",
              "      <th>1</th>\n",
              "      <td>50</td>\n",
              "      <td>Self-emp-not-inc</td>\n",
              "      <td>83311</td>\n",
              "      <td>Bachelors</td>\n",
              "      <td>13</td>\n",
              "      <td>Married-civ-spouse</td>\n",
              "      <td>Exec-managerial</td>\n",
              "      <td>Husband</td>\n",
              "      <td>Male</td>\n",
              "      <td>United-States</td>\n",
              "      <td>0</td>\n",
              "    </tr>\n",
              "    <tr>\n",
              "      <th>2</th>\n",
              "      <td>38</td>\n",
              "      <td>Private</td>\n",
              "      <td>215646</td>\n",
              "      <td>HS-grad</td>\n",
              "      <td>9</td>\n",
              "      <td>Divorced</td>\n",
              "      <td>NaN</td>\n",
              "      <td>Not-in-family</td>\n",
              "      <td>Male</td>\n",
              "      <td>United-States</td>\n",
              "      <td>0</td>\n",
              "    </tr>\n",
              "    <tr>\n",
              "      <th>3</th>\n",
              "      <td>53</td>\n",
              "      <td>Private</td>\n",
              "      <td>234721</td>\n",
              "      <td>NaN</td>\n",
              "      <td>7</td>\n",
              "      <td>Married-civ-spouse</td>\n",
              "      <td>NaN</td>\n",
              "      <td>Husband</td>\n",
              "      <td>Male</td>\n",
              "      <td>United-States</td>\n",
              "      <td>0</td>\n",
              "    </tr>\n",
              "    <tr>\n",
              "      <th>4</th>\n",
              "      <td>28</td>\n",
              "      <td>Private</td>\n",
              "      <td>338409</td>\n",
              "      <td>Bachelors</td>\n",
              "      <td>13</td>\n",
              "      <td>Married-civ-spouse</td>\n",
              "      <td>Prof-specialty</td>\n",
              "      <td>Wife</td>\n",
              "      <td>Female</td>\n",
              "      <td>Cuba</td>\n",
              "      <td>0</td>\n",
              "    </tr>\n",
              "    <tr>\n",
              "      <th>...</th>\n",
              "      <td>...</td>\n",
              "      <td>...</td>\n",
              "      <td>...</td>\n",
              "      <td>...</td>\n",
              "      <td>...</td>\n",
              "      <td>...</td>\n",
              "      <td>...</td>\n",
              "      <td>...</td>\n",
              "      <td>...</td>\n",
              "      <td>...</td>\n",
              "      <td>...</td>\n",
              "    </tr>\n",
              "    <tr>\n",
              "      <th>32556</th>\n",
              "      <td>27</td>\n",
              "      <td>Private</td>\n",
              "      <td>257302</td>\n",
              "      <td>Assoc-acdm</td>\n",
              "      <td>12</td>\n",
              "      <td>Married-civ-spouse</td>\n",
              "      <td>Tech-support</td>\n",
              "      <td>Wife</td>\n",
              "      <td>Female</td>\n",
              "      <td>United-States</td>\n",
              "      <td>0</td>\n",
              "    </tr>\n",
              "    <tr>\n",
              "      <th>32557</th>\n",
              "      <td>40</td>\n",
              "      <td>Private</td>\n",
              "      <td>154374</td>\n",
              "      <td>HS-grad</td>\n",
              "      <td>9</td>\n",
              "      <td>Married-civ-spouse</td>\n",
              "      <td>Machine-op-inspct</td>\n",
              "      <td>Husband</td>\n",
              "      <td>Male</td>\n",
              "      <td>United-States</td>\n",
              "      <td>1</td>\n",
              "    </tr>\n",
              "    <tr>\n",
              "      <th>32558</th>\n",
              "      <td>58</td>\n",
              "      <td>Private</td>\n",
              "      <td>151910</td>\n",
              "      <td>HS-grad</td>\n",
              "      <td>9</td>\n",
              "      <td>NaN</td>\n",
              "      <td>Adm-clerical</td>\n",
              "      <td>Unmarried</td>\n",
              "      <td>Female</td>\n",
              "      <td>United-States</td>\n",
              "      <td>0</td>\n",
              "    </tr>\n",
              "    <tr>\n",
              "      <th>32559</th>\n",
              "      <td>22</td>\n",
              "      <td>Private</td>\n",
              "      <td>201490</td>\n",
              "      <td>HS-grad</td>\n",
              "      <td>9</td>\n",
              "      <td>NaN</td>\n",
              "      <td>Adm-clerical</td>\n",
              "      <td>Own-child</td>\n",
              "      <td>Male</td>\n",
              "      <td>United-States</td>\n",
              "      <td>0</td>\n",
              "    </tr>\n",
              "    <tr>\n",
              "      <th>32560</th>\n",
              "      <td>52</td>\n",
              "      <td>Self-emp-inc</td>\n",
              "      <td>287927</td>\n",
              "      <td>HS-grad</td>\n",
              "      <td>9</td>\n",
              "      <td>Married-civ-spouse</td>\n",
              "      <td>Exec-managerial</td>\n",
              "      <td>Wife</td>\n",
              "      <td>Female</td>\n",
              "      <td>United-States</td>\n",
              "      <td>1</td>\n",
              "    </tr>\n",
              "  </tbody>\n",
              "</table>\n",
              "<p>30162 rows × 11 columns</p>\n",
              "</div>"
            ],
            "text/plain": [
              "       age          workclass  fnlwgt  ...      sex  native_country outcome\n",
              "0       39          State-gov   77516  ...     Male   United-States       0\n",
              "1       50   Self-emp-not-inc   83311  ...     Male   United-States       0\n",
              "2       38            Private  215646  ...     Male   United-States       0\n",
              "3       53            Private  234721  ...     Male   United-States       0\n",
              "4       28            Private  338409  ...   Female            Cuba       0\n",
              "...    ...                ...     ...  ...      ...             ...     ...\n",
              "32556   27            Private  257302  ...   Female   United-States       0\n",
              "32557   40            Private  154374  ...     Male   United-States       1\n",
              "32558   58            Private  151910  ...   Female   United-States       0\n",
              "32559   22            Private  201490  ...     Male   United-States       0\n",
              "32560   52       Self-emp-inc  287927  ...   Female   United-States       1\n",
              "\n",
              "[30162 rows x 11 columns]"
            ]
          },
          "metadata": {},
          "execution_count": 50
        }
      ]
    },
    {
      "cell_type": "code",
      "metadata": {
        "colab": {
          "base_uri": "https://localhost:8080/"
        },
        "id": "cA_7jkP-XiaV",
        "outputId": "4b604663-9f6e-4303-cda5-ca570a6508b0"
      },
      "source": [
        "train_set.isna().sum()"
      ],
      "execution_count": 51,
      "outputs": [
        {
          "output_type": "execute_result",
          "data": {
            "text/plain": [
              "age                   0\n",
              "workclass            14\n",
              "fnlwgt                0\n",
              "education          3696\n",
              "education_num         0\n",
              "marital_status    11862\n",
              "occupation         4562\n",
              "relationship          0\n",
              "sex                   0\n",
              "native_country        0\n",
              "outcome               0\n",
              "dtype: int64"
            ]
          },
          "metadata": {},
          "execution_count": 51
        }
      ]
    },
    {
      "cell_type": "code",
      "metadata": {
        "colab": {
          "base_uri": "https://localhost:8080/"
        },
        "id": "7MIZNIgVXic-",
        "outputId": "175e1a66-330f-4a34-ada7-875dd95234fb"
      },
      "source": [
        "train_set = train_set.dropna()\n",
        "train_set.shape"
      ],
      "execution_count": 52,
      "outputs": [
        {
          "output_type": "execute_result",
          "data": {
            "text/plain": [
              "(15030, 11)"
            ]
          },
          "metadata": {},
          "execution_count": 52
        }
      ]
    },
    {
      "cell_type": "code",
      "metadata": {
        "colab": {
          "base_uri": "https://localhost:8080/",
          "height": 417
        },
        "id": "-MmmXg9unrTI",
        "outputId": "babbaa37-deb4-4f3a-cb67-5806f5e93b03"
      },
      "source": [
        "train_set"
      ],
      "execution_count": 53,
      "outputs": [
        {
          "output_type": "execute_result",
          "data": {
            "text/html": [
              "<div>\n",
              "<style scoped>\n",
              "    .dataframe tbody tr th:only-of-type {\n",
              "        vertical-align: middle;\n",
              "    }\n",
              "\n",
              "    .dataframe tbody tr th {\n",
              "        vertical-align: top;\n",
              "    }\n",
              "\n",
              "    .dataframe thead th {\n",
              "        text-align: right;\n",
              "    }\n",
              "</style>\n",
              "<table border=\"1\" class=\"dataframe\">\n",
              "  <thead>\n",
              "    <tr style=\"text-align: right;\">\n",
              "      <th></th>\n",
              "      <th>age</th>\n",
              "      <th>workclass</th>\n",
              "      <th>fnlwgt</th>\n",
              "      <th>education</th>\n",
              "      <th>education_num</th>\n",
              "      <th>marital_status</th>\n",
              "      <th>occupation</th>\n",
              "      <th>relationship</th>\n",
              "      <th>sex</th>\n",
              "      <th>native_country</th>\n",
              "      <th>outcome</th>\n",
              "    </tr>\n",
              "  </thead>\n",
              "  <tbody>\n",
              "    <tr>\n",
              "      <th>1</th>\n",
              "      <td>50</td>\n",
              "      <td>Self-emp-not-inc</td>\n",
              "      <td>83311</td>\n",
              "      <td>Bachelors</td>\n",
              "      <td>13</td>\n",
              "      <td>Married-civ-spouse</td>\n",
              "      <td>Exec-managerial</td>\n",
              "      <td>Husband</td>\n",
              "      <td>Male</td>\n",
              "      <td>United-States</td>\n",
              "      <td>0</td>\n",
              "    </tr>\n",
              "    <tr>\n",
              "      <th>4</th>\n",
              "      <td>28</td>\n",
              "      <td>Private</td>\n",
              "      <td>338409</td>\n",
              "      <td>Bachelors</td>\n",
              "      <td>13</td>\n",
              "      <td>Married-civ-spouse</td>\n",
              "      <td>Prof-specialty</td>\n",
              "      <td>Wife</td>\n",
              "      <td>Female</td>\n",
              "      <td>Cuba</td>\n",
              "      <td>0</td>\n",
              "    </tr>\n",
              "    <tr>\n",
              "      <th>5</th>\n",
              "      <td>37</td>\n",
              "      <td>Private</td>\n",
              "      <td>284582</td>\n",
              "      <td>Masters</td>\n",
              "      <td>14</td>\n",
              "      <td>Married-civ-spouse</td>\n",
              "      <td>Exec-managerial</td>\n",
              "      <td>Wife</td>\n",
              "      <td>Female</td>\n",
              "      <td>United-States</td>\n",
              "      <td>0</td>\n",
              "    </tr>\n",
              "    <tr>\n",
              "      <th>7</th>\n",
              "      <td>52</td>\n",
              "      <td>Self-emp-not-inc</td>\n",
              "      <td>209642</td>\n",
              "      <td>HS-grad</td>\n",
              "      <td>9</td>\n",
              "      <td>Married-civ-spouse</td>\n",
              "      <td>Exec-managerial</td>\n",
              "      <td>Husband</td>\n",
              "      <td>Male</td>\n",
              "      <td>United-States</td>\n",
              "      <td>1</td>\n",
              "    </tr>\n",
              "    <tr>\n",
              "      <th>9</th>\n",
              "      <td>42</td>\n",
              "      <td>Private</td>\n",
              "      <td>159449</td>\n",
              "      <td>Bachelors</td>\n",
              "      <td>13</td>\n",
              "      <td>Married-civ-spouse</td>\n",
              "      <td>Exec-managerial</td>\n",
              "      <td>Husband</td>\n",
              "      <td>Male</td>\n",
              "      <td>United-States</td>\n",
              "      <td>1</td>\n",
              "    </tr>\n",
              "    <tr>\n",
              "      <th>...</th>\n",
              "      <td>...</td>\n",
              "      <td>...</td>\n",
              "      <td>...</td>\n",
              "      <td>...</td>\n",
              "      <td>...</td>\n",
              "      <td>...</td>\n",
              "      <td>...</td>\n",
              "      <td>...</td>\n",
              "      <td>...</td>\n",
              "      <td>...</td>\n",
              "      <td>...</td>\n",
              "    </tr>\n",
              "    <tr>\n",
              "      <th>32552</th>\n",
              "      <td>43</td>\n",
              "      <td>Private</td>\n",
              "      <td>84661</td>\n",
              "      <td>Assoc-voc</td>\n",
              "      <td>11</td>\n",
              "      <td>Married-civ-spouse</td>\n",
              "      <td>Sales</td>\n",
              "      <td>Husband</td>\n",
              "      <td>Male</td>\n",
              "      <td>United-States</td>\n",
              "      <td>0</td>\n",
              "    </tr>\n",
              "    <tr>\n",
              "      <th>32554</th>\n",
              "      <td>53</td>\n",
              "      <td>Private</td>\n",
              "      <td>321865</td>\n",
              "      <td>Masters</td>\n",
              "      <td>14</td>\n",
              "      <td>Married-civ-spouse</td>\n",
              "      <td>Exec-managerial</td>\n",
              "      <td>Husband</td>\n",
              "      <td>Male</td>\n",
              "      <td>United-States</td>\n",
              "      <td>1</td>\n",
              "    </tr>\n",
              "    <tr>\n",
              "      <th>32556</th>\n",
              "      <td>27</td>\n",
              "      <td>Private</td>\n",
              "      <td>257302</td>\n",
              "      <td>Assoc-acdm</td>\n",
              "      <td>12</td>\n",
              "      <td>Married-civ-spouse</td>\n",
              "      <td>Tech-support</td>\n",
              "      <td>Wife</td>\n",
              "      <td>Female</td>\n",
              "      <td>United-States</td>\n",
              "      <td>0</td>\n",
              "    </tr>\n",
              "    <tr>\n",
              "      <th>32557</th>\n",
              "      <td>40</td>\n",
              "      <td>Private</td>\n",
              "      <td>154374</td>\n",
              "      <td>HS-grad</td>\n",
              "      <td>9</td>\n",
              "      <td>Married-civ-spouse</td>\n",
              "      <td>Machine-op-inspct</td>\n",
              "      <td>Husband</td>\n",
              "      <td>Male</td>\n",
              "      <td>United-States</td>\n",
              "      <td>1</td>\n",
              "    </tr>\n",
              "    <tr>\n",
              "      <th>32560</th>\n",
              "      <td>52</td>\n",
              "      <td>Self-emp-inc</td>\n",
              "      <td>287927</td>\n",
              "      <td>HS-grad</td>\n",
              "      <td>9</td>\n",
              "      <td>Married-civ-spouse</td>\n",
              "      <td>Exec-managerial</td>\n",
              "      <td>Wife</td>\n",
              "      <td>Female</td>\n",
              "      <td>United-States</td>\n",
              "      <td>1</td>\n",
              "    </tr>\n",
              "  </tbody>\n",
              "</table>\n",
              "<p>15030 rows × 11 columns</p>\n",
              "</div>"
            ],
            "text/plain": [
              "       age          workclass  fnlwgt  ...      sex  native_country outcome\n",
              "1       50   Self-emp-not-inc   83311  ...     Male   United-States       0\n",
              "4       28            Private  338409  ...   Female            Cuba       0\n",
              "5       37            Private  284582  ...   Female   United-States       0\n",
              "7       52   Self-emp-not-inc  209642  ...     Male   United-States       1\n",
              "9       42            Private  159449  ...     Male   United-States       1\n",
              "...    ...                ...     ...  ...      ...             ...     ...\n",
              "32552   43            Private   84661  ...     Male   United-States       0\n",
              "32554   53            Private  321865  ...     Male   United-States       1\n",
              "32556   27            Private  257302  ...   Female   United-States       0\n",
              "32557   40            Private  154374  ...     Male   United-States       1\n",
              "32560   52       Self-emp-inc  287927  ...   Female   United-States       1\n",
              "\n",
              "[15030 rows x 11 columns]"
            ]
          },
          "metadata": {},
          "execution_count": 53
        }
      ]
    },
    {
      "cell_type": "code",
      "metadata": {
        "colab": {
          "base_uri": "https://localhost:8080/"
        },
        "id": "JKPqYjMdmKlx",
        "outputId": "5621f218-e03c-47e4-c9ab-a8f4afe4d07a"
      },
      "source": [
        "train_set['Male'] = (pd.get_dummies(train_set['sex'],drop_first=True))\n",
        "train_set=train_set.join(pd.get_dummies(train_set['relationship'],drop_first=True))\n",
        "train_set=train_set.join(pd.get_dummies(train_set['occupation'],drop_first=True))\n",
        "train_set=train_set.join(pd.get_dummies(train_set['workclass'],drop_first=True))\n",
        "train_set=train_set.join(pd.get_dummies(train_set['education'],drop_first=True))\n",
        "train_set=train_set.join(pd.get_dummies(train_set['marital_status'],drop_first=True))\n"
      ],
      "execution_count": 54,
      "outputs": [
        {
          "output_type": "stream",
          "name": "stderr",
          "text": [
            "/usr/local/lib/python3.7/dist-packages/ipykernel_launcher.py:1: SettingWithCopyWarning: \n",
            "A value is trying to be set on a copy of a slice from a DataFrame.\n",
            "Try using .loc[row_indexer,col_indexer] = value instead\n",
            "\n",
            "See the caveats in the documentation: https://pandas.pydata.org/pandas-docs/stable/user_guide/indexing.html#returning-a-view-versus-a-copy\n",
            "  \"\"\"Entry point for launching an IPython kernel.\n"
          ]
        }
      ]
    },
    {
      "cell_type": "code",
      "metadata": {
        "id": "kplDXSEOXigR"
      },
      "source": [
        "train_set.drop(['native_country','sex','relationship','occupation','workclass','education','marital_status'],axis=1,inplace=True)"
      ],
      "execution_count": 55,
      "outputs": []
    },
    {
      "cell_type": "code",
      "metadata": {
        "colab": {
          "base_uri": "https://localhost:8080/",
          "height": 274
        },
        "id": "HkGeLktZJxos",
        "outputId": "8ce0c2e2-c860-4ced-d35f-f09e647329cc"
      },
      "source": [
        "train_set.head()"
      ],
      "execution_count": 56,
      "outputs": [
        {
          "output_type": "execute_result",
          "data": {
            "text/html": [
              "<div>\n",
              "<style scoped>\n",
              "    .dataframe tbody tr th:only-of-type {\n",
              "        vertical-align: middle;\n",
              "    }\n",
              "\n",
              "    .dataframe tbody tr th {\n",
              "        vertical-align: top;\n",
              "    }\n",
              "\n",
              "    .dataframe thead th {\n",
              "        text-align: right;\n",
              "    }\n",
              "</style>\n",
              "<table border=\"1\" class=\"dataframe\">\n",
              "  <thead>\n",
              "    <tr style=\"text-align: right;\">\n",
              "      <th></th>\n",
              "      <th>age</th>\n",
              "      <th>fnlwgt</th>\n",
              "      <th>education_num</th>\n",
              "      <th>outcome</th>\n",
              "      <th>Male</th>\n",
              "      <th>Not-in-family</th>\n",
              "      <th>Other-relative</th>\n",
              "      <th>Own-child</th>\n",
              "      <th>Unmarried</th>\n",
              "      <th>Wife</th>\n",
              "      <th>Armed-Forces</th>\n",
              "      <th>Craft-repair</th>\n",
              "      <th>Exec-managerial</th>\n",
              "      <th>Farming-fishing</th>\n",
              "      <th>Machine-op-inspct</th>\n",
              "      <th>Priv-house-serv</th>\n",
              "      <th>Prof-specialty</th>\n",
              "      <th>Protective-serv</th>\n",
              "      <th>Sales</th>\n",
              "      <th>Tech-support</th>\n",
              "      <th>Transport-moving</th>\n",
              "      <th>Local-gov</th>\n",
              "      <th>Private</th>\n",
              "      <th>Self-emp-inc</th>\n",
              "      <th>Self-emp-not-inc</th>\n",
              "      <th>State-gov</th>\n",
              "      <th>Assoc-voc</th>\n",
              "      <th>Bachelors</th>\n",
              "      <th>Doctorate</th>\n",
              "      <th>HS-grad</th>\n",
              "      <th>Masters</th>\n",
              "      <th>Preschool</th>\n",
              "      <th>Prof-school</th>\n",
              "      <th>Some-college</th>\n",
              "      <th>Married-AF-spouse</th>\n",
              "      <th>Married-civ-spouse</th>\n",
              "    </tr>\n",
              "  </thead>\n",
              "  <tbody>\n",
              "    <tr>\n",
              "      <th>1</th>\n",
              "      <td>50</td>\n",
              "      <td>83311</td>\n",
              "      <td>13</td>\n",
              "      <td>0</td>\n",
              "      <td>1</td>\n",
              "      <td>0</td>\n",
              "      <td>0</td>\n",
              "      <td>0</td>\n",
              "      <td>0</td>\n",
              "      <td>0</td>\n",
              "      <td>0</td>\n",
              "      <td>0</td>\n",
              "      <td>1</td>\n",
              "      <td>0</td>\n",
              "      <td>0</td>\n",
              "      <td>0</td>\n",
              "      <td>0</td>\n",
              "      <td>0</td>\n",
              "      <td>0</td>\n",
              "      <td>0</td>\n",
              "      <td>0</td>\n",
              "      <td>0</td>\n",
              "      <td>0</td>\n",
              "      <td>0</td>\n",
              "      <td>1</td>\n",
              "      <td>0</td>\n",
              "      <td>0</td>\n",
              "      <td>1</td>\n",
              "      <td>0</td>\n",
              "      <td>0</td>\n",
              "      <td>0</td>\n",
              "      <td>0</td>\n",
              "      <td>0</td>\n",
              "      <td>0</td>\n",
              "      <td>0</td>\n",
              "      <td>1</td>\n",
              "    </tr>\n",
              "    <tr>\n",
              "      <th>4</th>\n",
              "      <td>28</td>\n",
              "      <td>338409</td>\n",
              "      <td>13</td>\n",
              "      <td>0</td>\n",
              "      <td>0</td>\n",
              "      <td>0</td>\n",
              "      <td>0</td>\n",
              "      <td>0</td>\n",
              "      <td>0</td>\n",
              "      <td>1</td>\n",
              "      <td>0</td>\n",
              "      <td>0</td>\n",
              "      <td>0</td>\n",
              "      <td>0</td>\n",
              "      <td>0</td>\n",
              "      <td>0</td>\n",
              "      <td>1</td>\n",
              "      <td>0</td>\n",
              "      <td>0</td>\n",
              "      <td>0</td>\n",
              "      <td>0</td>\n",
              "      <td>0</td>\n",
              "      <td>1</td>\n",
              "      <td>0</td>\n",
              "      <td>0</td>\n",
              "      <td>0</td>\n",
              "      <td>0</td>\n",
              "      <td>1</td>\n",
              "      <td>0</td>\n",
              "      <td>0</td>\n",
              "      <td>0</td>\n",
              "      <td>0</td>\n",
              "      <td>0</td>\n",
              "      <td>0</td>\n",
              "      <td>0</td>\n",
              "      <td>1</td>\n",
              "    </tr>\n",
              "    <tr>\n",
              "      <th>5</th>\n",
              "      <td>37</td>\n",
              "      <td>284582</td>\n",
              "      <td>14</td>\n",
              "      <td>0</td>\n",
              "      <td>0</td>\n",
              "      <td>0</td>\n",
              "      <td>0</td>\n",
              "      <td>0</td>\n",
              "      <td>0</td>\n",
              "      <td>1</td>\n",
              "      <td>0</td>\n",
              "      <td>0</td>\n",
              "      <td>1</td>\n",
              "      <td>0</td>\n",
              "      <td>0</td>\n",
              "      <td>0</td>\n",
              "      <td>0</td>\n",
              "      <td>0</td>\n",
              "      <td>0</td>\n",
              "      <td>0</td>\n",
              "      <td>0</td>\n",
              "      <td>0</td>\n",
              "      <td>1</td>\n",
              "      <td>0</td>\n",
              "      <td>0</td>\n",
              "      <td>0</td>\n",
              "      <td>0</td>\n",
              "      <td>0</td>\n",
              "      <td>0</td>\n",
              "      <td>0</td>\n",
              "      <td>1</td>\n",
              "      <td>0</td>\n",
              "      <td>0</td>\n",
              "      <td>0</td>\n",
              "      <td>0</td>\n",
              "      <td>1</td>\n",
              "    </tr>\n",
              "    <tr>\n",
              "      <th>7</th>\n",
              "      <td>52</td>\n",
              "      <td>209642</td>\n",
              "      <td>9</td>\n",
              "      <td>1</td>\n",
              "      <td>1</td>\n",
              "      <td>0</td>\n",
              "      <td>0</td>\n",
              "      <td>0</td>\n",
              "      <td>0</td>\n",
              "      <td>0</td>\n",
              "      <td>0</td>\n",
              "      <td>0</td>\n",
              "      <td>1</td>\n",
              "      <td>0</td>\n",
              "      <td>0</td>\n",
              "      <td>0</td>\n",
              "      <td>0</td>\n",
              "      <td>0</td>\n",
              "      <td>0</td>\n",
              "      <td>0</td>\n",
              "      <td>0</td>\n",
              "      <td>0</td>\n",
              "      <td>0</td>\n",
              "      <td>0</td>\n",
              "      <td>1</td>\n",
              "      <td>0</td>\n",
              "      <td>0</td>\n",
              "      <td>0</td>\n",
              "      <td>0</td>\n",
              "      <td>1</td>\n",
              "      <td>0</td>\n",
              "      <td>0</td>\n",
              "      <td>0</td>\n",
              "      <td>0</td>\n",
              "      <td>0</td>\n",
              "      <td>1</td>\n",
              "    </tr>\n",
              "    <tr>\n",
              "      <th>9</th>\n",
              "      <td>42</td>\n",
              "      <td>159449</td>\n",
              "      <td>13</td>\n",
              "      <td>1</td>\n",
              "      <td>1</td>\n",
              "      <td>0</td>\n",
              "      <td>0</td>\n",
              "      <td>0</td>\n",
              "      <td>0</td>\n",
              "      <td>0</td>\n",
              "      <td>0</td>\n",
              "      <td>0</td>\n",
              "      <td>1</td>\n",
              "      <td>0</td>\n",
              "      <td>0</td>\n",
              "      <td>0</td>\n",
              "      <td>0</td>\n",
              "      <td>0</td>\n",
              "      <td>0</td>\n",
              "      <td>0</td>\n",
              "      <td>0</td>\n",
              "      <td>0</td>\n",
              "      <td>1</td>\n",
              "      <td>0</td>\n",
              "      <td>0</td>\n",
              "      <td>0</td>\n",
              "      <td>0</td>\n",
              "      <td>1</td>\n",
              "      <td>0</td>\n",
              "      <td>0</td>\n",
              "      <td>0</td>\n",
              "      <td>0</td>\n",
              "      <td>0</td>\n",
              "      <td>0</td>\n",
              "      <td>0</td>\n",
              "      <td>1</td>\n",
              "    </tr>\n",
              "  </tbody>\n",
              "</table>\n",
              "</div>"
            ],
            "text/plain": [
              "   age  fnlwgt  ...   Married-AF-spouse   Married-civ-spouse\n",
              "1   50   83311  ...                   0                    1\n",
              "4   28  338409  ...                   0                    1\n",
              "5   37  284582  ...                   0                    1\n",
              "7   52  209642  ...                   0                    1\n",
              "9   42  159449  ...                   0                    1\n",
              "\n",
              "[5 rows x 36 columns]"
            ]
          },
          "metadata": {},
          "execution_count": 56
        }
      ]
    },
    {
      "cell_type": "code",
      "metadata": {
        "id": "MBdo-ESlXsVH"
      },
      "source": [
        "X = train_set.drop('outcome',axis=1)\n",
        "y = train_set.outcome\n"
      ],
      "execution_count": 92,
      "outputs": []
    },
    {
      "cell_type": "markdown",
      "metadata": {
        "id": "7eqcSw-803wy"
      },
      "source": [
        "#Test Data\n"
      ]
    },
    {
      "cell_type": "code",
      "metadata": {
        "colab": {
          "base_uri": "https://localhost:8080/"
        },
        "id": "Lh6Oy79Q08Fl",
        "outputId": "4b33ac11-e49a-491e-8479-2ea816d030d9"
      },
      "source": [
        "test_set.columns"
      ],
      "execution_count": 65,
      "outputs": [
        {
          "output_type": "execute_result",
          "data": {
            "text/plain": [
              "Index(['age', 'workclass', 'fnlwgt', 'education', 'education_num',\n",
              "       'marital_status', 'occupation', 'relationship', 'race', 'sex',\n",
              "       'capital_gain', 'capital_loss', 'hours_per_week', 'native_country',\n",
              "       'wage_class'],\n",
              "      dtype='object')"
            ]
          },
          "metadata": {},
          "execution_count": 65
        }
      ]
    },
    {
      "cell_type": "code",
      "metadata": {
        "colab": {
          "base_uri": "https://localhost:8080/"
        },
        "id": "4nhM9dg908CM",
        "outputId": "c4204d9b-7701-4758-ecfc-a65bbf3acc0f"
      },
      "source": [
        "train_set.columns"
      ],
      "execution_count": 66,
      "outputs": [
        {
          "output_type": "execute_result",
          "data": {
            "text/plain": [
              "Index(['age', 'fnlwgt', 'education_num', 'outcome', 'Male', ' Not-in-family',\n",
              "       ' Other-relative', ' Own-child', ' Unmarried', ' Wife', ' Armed-Forces',\n",
              "       ' Craft-repair', ' Exec-managerial', ' Farming-fishing',\n",
              "       ' Machine-op-inspct', ' Priv-house-serv', ' Prof-specialty',\n",
              "       ' Protective-serv', ' Sales', ' Tech-support', ' Transport-moving',\n",
              "       ' Local-gov', ' Private', ' Self-emp-inc', ' Self-emp-not-inc',\n",
              "       ' State-gov', ' Assoc-voc', ' Bachelors', ' Doctorate', ' HS-grad',\n",
              "       ' Masters', ' Preschool', ' Prof-school', ' Some-college',\n",
              "       ' Married-AF-spouse', ' Married-civ-spouse'],\n",
              "      dtype='object')"
            ]
          },
          "metadata": {},
          "execution_count": 66
        }
      ]
    },
    {
      "cell_type": "code",
      "metadata": {
        "colab": {
          "base_uri": "https://localhost:8080/"
        },
        "id": "yww2cgnD07_X",
        "outputId": "eda30e95-2a01-4f9a-be6e-e0335e527af9"
      },
      "source": [
        "test_set.isin([' ?']).sum()"
      ],
      "execution_count": 67,
      "outputs": [
        {
          "output_type": "execute_result",
          "data": {
            "text/plain": [
              "age                 0\n",
              "workclass         963\n",
              "fnlwgt              0\n",
              "education           0\n",
              "education_num       0\n",
              "marital_status      0\n",
              "occupation        966\n",
              "relationship        0\n",
              "race                0\n",
              "sex                 0\n",
              "capital_gain        0\n",
              "capital_loss        0\n",
              "hours_per_week      0\n",
              "native_country    274\n",
              "wage_class          0\n",
              "dtype: int64"
            ]
          },
          "metadata": {},
          "execution_count": 67
        }
      ]
    },
    {
      "cell_type": "code",
      "metadata": {
        "id": "VbCfZ3oj078Z"
      },
      "source": [
        "test_set = test_set.replace(' ?',np.nan)"
      ],
      "execution_count": 68,
      "outputs": []
    },
    {
      "cell_type": "code",
      "metadata": {
        "id": "EwoIaWOD075c"
      },
      "source": [
        "test_set.dropna(inplace=True)"
      ],
      "execution_count": 69,
      "outputs": []
    },
    {
      "cell_type": "code",
      "metadata": {
        "id": "QtF9nXJz072Y"
      },
      "source": [
        "test_set.drop(['capital_gain','capital_loss'],inplace=True,axis=1)"
      ],
      "execution_count": 70,
      "outputs": []
    },
    {
      "cell_type": "code",
      "metadata": {
        "id": "8ZKfjaWE4eck"
      },
      "source": [
        "test_set['outcome'] = test_set.wage_class.map({' <=50K.':0,' >50K.':1})\n",
        " "
      ],
      "execution_count": 71,
      "outputs": []
    },
    {
      "cell_type": "code",
      "metadata": {
        "id": "ty8l2hso4efp"
      },
      "source": [
        "test_set.drop(['wage_class'],inplace=True,axis=1)"
      ],
      "execution_count": 72,
      "outputs": []
    },
    {
      "cell_type": "code",
      "metadata": {
        "id": "PY8HveGp4ejM"
      },
      "source": [
        "test_set['relationship'] = test_set['relationship'].replace(['Unmarried','other-relative','Own-child'],np.nan)"
      ],
      "execution_count": 73,
      "outputs": []
    },
    {
      "cell_type": "code",
      "metadata": {
        "id": "LALPX-bO4emh"
      },
      "source": [
        "test_set['occupation'] = test_set['occupation'].replace([' Handlers-cleaners',' Other-service',' Priv-hoouse-serv'],np.nan)"
      ],
      "execution_count": 74,
      "outputs": []
    },
    {
      "cell_type": "code",
      "metadata": {
        "id": "cHdtkAH14epv"
      },
      "source": [
        "test_set['workclass'] = test_set['workclass'].replace([' Without-pay'],np.nan)\n",
        "test_set['education'] = test_set['education'].replace([' 12th',' 10th',' 7th-8th',' 11th',' 9th',' 5th-6th',' 1st-4th','Preschool'],np.nan)\n",
        "test_set['marital_status'] = test_set['marital_status'].replace([' Widowed',' Married-spouse-absent',' Never-married',' Separated'],np.nan)"
      ],
      "execution_count": 75,
      "outputs": []
    },
    {
      "cell_type": "code",
      "metadata": {
        "id": "Gs_PsjJI4esv"
      },
      "source": [
        "test_set.drop(['race','hours_per_week'],inplace=True,axis=1)"
      ],
      "execution_count": 76,
      "outputs": []
    },
    {
      "cell_type": "code",
      "metadata": {
        "colab": {
          "base_uri": "https://localhost:8080/"
        },
        "id": "QQbgpInQ4ezX",
        "outputId": "f5b439dc-6fd0-4c6c-b4ab-05f75d536c37"
      },
      "source": [
        "test_set['marital_status'].value_counts()"
      ],
      "execution_count": 77,
      "outputs": [
        {
          "output_type": "execute_result",
          "data": {
            "text/plain": [
              " Married-civ-spouse    6990\n",
              " Divorced              2083\n",
              " Married-AF-spouse       11\n",
              "Name: marital_status, dtype: int64"
            ]
          },
          "metadata": {},
          "execution_count": 77
        }
      ]
    },
    {
      "cell_type": "code",
      "metadata": {
        "id": "ew_NS-dl7rM8"
      },
      "source": [
        "test_set.fillna(value={'marital_status':\"Married-civ-spouce\"},inplace=True)"
      ],
      "execution_count": 78,
      "outputs": []
    },
    {
      "cell_type": "code",
      "metadata": {
        "id": "5uy681S99gOY"
      },
      "source": [
        "test_set.dropna(inplace=True)"
      ],
      "execution_count": 79,
      "outputs": []
    },
    {
      "cell_type": "code",
      "metadata": {
        "id": "1JPBnMbD8ddh"
      },
      "source": [
        "test_set['Male'] = (pd.get_dummies(test_set['sex'],drop_first=True))\n",
        "test_set=test_set.join(pd.get_dummies(test_set['relationship'],drop_first=True))\n",
        "test_set=test_set.join(pd.get_dummies(test_set['occupation'],drop_first=True))\n",
        "test_set=test_set.join(pd.get_dummies(test_set['workclass'],drop_first=True))\n",
        "test_set=test_set.join(pd.get_dummies(test_set['education'],drop_first=True))\n",
        "test_set=test_set.join(pd.get_dummies(test_set['marital_status'],drop_first=True))"
      ],
      "execution_count": 80,
      "outputs": []
    },
    {
      "cell_type": "code",
      "metadata": {
        "id": "MH_NsaG7-DUX"
      },
      "source": [
        "test_set.drop(['native_country','sex','relationship','occupation','workclass','education','marital_status'],axis=1,inplace=True)"
      ],
      "execution_count": 81,
      "outputs": []
    },
    {
      "cell_type": "code",
      "metadata": {
        "colab": {
          "base_uri": "https://localhost:8080/"
        },
        "id": "GDoRP8O3-DXZ",
        "outputId": "cb2f9753-ed56-4c6a-ce3f-5f42408b5e4f"
      },
      "source": [
        "from sklearn.ensemble import ExtraTreesRegressor\n",
        "selection = ExtraTreesRegressor(verbose=3,random_state=40)\n",
        "selection.fit(X,y)"
      ],
      "execution_count": 82,
      "outputs": [
        {
          "output_type": "stream",
          "name": "stderr",
          "text": [
            "[Parallel(n_jobs=1)]: Using backend SequentialBackend with 1 concurrent workers.\n",
            "[Parallel(n_jobs=1)]: Done   1 out of   1 | elapsed:    0.0s remaining:    0.0s\n",
            "[Parallel(n_jobs=1)]: Done   2 out of   2 | elapsed:    0.1s remaining:    0.0s\n"
          ]
        },
        {
          "output_type": "stream",
          "name": "stdout",
          "text": [
            "building tree 1 of 100\n",
            "building tree 2 of 100\n",
            "building tree 3 of 100\n",
            "building tree 4 of 100\n",
            "building tree 5 of 100\n",
            "building tree 6 of 100\n",
            "building tree 7 of 100\n",
            "building tree 8 of 100\n",
            "building tree 9 of 100\n",
            "building tree 10 of 100\n",
            "building tree 11 of 100\n",
            "building tree 12 of 100\n",
            "building tree 13 of 100\n",
            "building tree 14 of 100\n",
            "building tree 15 of 100\n",
            "building tree 16 of 100\n",
            "building tree 17 of 100\n",
            "building tree 18 of 100\n",
            "building tree 19 of 100\n",
            "building tree 20 of 100\n",
            "building tree 21 of 100\n",
            "building tree 22 of 100\n",
            "building tree 23 of 100\n",
            "building tree 24 of 100\n",
            "building tree 25 of 100\n",
            "building tree 26 of 100\n",
            "building tree 27 of 100\n",
            "building tree 28 of 100\n",
            "building tree 29 of 100\n",
            "building tree 30 of 100\n",
            "building tree 31 of 100\n",
            "building tree 32 of 100\n",
            "building tree 33 of 100\n",
            "building tree 34 of 100\n",
            "building tree 35 of 100\n",
            "building tree 36 of 100\n",
            "building tree 37 of 100\n",
            "building tree 38 of 100\n",
            "building tree 39 of 100\n",
            "building tree 40 of 100\n",
            "building tree 41 of 100\n",
            "building tree 42 of 100\n",
            "building tree 43 of 100\n",
            "building tree 44 of 100\n",
            "building tree 45 of 100\n",
            "building tree 46 of 100\n",
            "building tree 47 of 100\n",
            "building tree 48 of 100\n",
            "building tree 49 of 100\n",
            "building tree 50 of 100\n",
            "building tree 51 of 100\n",
            "building tree 52 of 100\n",
            "building tree 53 of 100\n",
            "building tree 54 of 100\n",
            "building tree 55 of 100\n",
            "building tree 56 of 100\n",
            "building tree 57 of 100\n",
            "building tree 58 of 100\n",
            "building tree 59 of 100\n",
            "building tree 60 of 100\n",
            "building tree 61 of 100\n",
            "building tree 62 of 100\n",
            "building tree 63 of 100\n",
            "building tree 64 of 100\n",
            "building tree 65 of 100\n",
            "building tree 66 of 100\n",
            "building tree 67 of 100\n",
            "building tree 68 of 100\n",
            "building tree 69 of 100\n",
            "building tree 70 of 100\n",
            "building tree 71 of 100\n",
            "building tree 72 of 100\n",
            "building tree 73 of 100\n",
            "building tree 74 of 100\n",
            "building tree 75 of 100\n",
            "building tree 76 of 100\n",
            "building tree 77 of 100\n",
            "building tree 78 of 100\n",
            "building tree 79 of 100\n",
            "building tree 80 of 100\n",
            "building tree 81 of 100\n",
            "building tree 82 of 100\n",
            "building tree 83 of 100\n",
            "building tree 84 of 100\n",
            "building tree 85 of 100\n",
            "building tree 86 of 100\n",
            "building tree 87 of 100\n",
            "building tree 88 of 100\n",
            "building tree 89 of 100\n",
            "building tree 90 of 100\n",
            "building tree 91 of 100\n",
            "building tree 92 of 100\n",
            "building tree 93 of 100\n",
            "building tree 94 of 100\n",
            "building tree 95 of 100\n",
            "building tree 96 of 100\n",
            "building tree 97 of 100\n",
            "building tree 98 of 100\n",
            "building tree 99 of 100\n",
            "building tree 100 of 100\n"
          ]
        },
        {
          "output_type": "stream",
          "name": "stderr",
          "text": [
            "[Parallel(n_jobs=1)]: Done 100 out of 100 | elapsed:    4.0s finished\n"
          ]
        },
        {
          "output_type": "execute_result",
          "data": {
            "text/plain": [
              "ExtraTreesRegressor(bootstrap=False, ccp_alpha=0.0, criterion='mse',\n",
              "                    max_depth=None, max_features='auto', max_leaf_nodes=None,\n",
              "                    max_samples=None, min_impurity_decrease=0.0,\n",
              "                    min_impurity_split=None, min_samples_leaf=1,\n",
              "                    min_samples_split=2, min_weight_fraction_leaf=0.0,\n",
              "                    n_estimators=100, n_jobs=None, oob_score=False,\n",
              "                    random_state=40, verbose=3, warm_start=False)"
            ]
          },
          "metadata": {},
          "execution_count": 82
        }
      ]
    },
    {
      "cell_type": "code",
      "metadata": {
        "colab": {
          "base_uri": "https://localhost:8080/",
          "height": 483
        },
        "id": "yp_CPiCB-Dao",
        "outputId": "835dc44a-783f-44f2-bc95-711ca641dc12"
      },
      "source": [
        "plt.figure(figsize=(12,8))\n",
        "feat_imp = pd.Series(selection.feature_importances_,index = X.columns)\n",
        "feat_imp.nlargest(20).plot(kind='barh')\n",
        "plt.show()"
      ],
      "execution_count": 83,
      "outputs": [
        {
          "output_type": "display_data",
          "data": {
            "image/png": "[encoded data removed]",
            "text/plain": [
              "<Figure size 864x576 with 1 Axes>"
            ]
          },
          "metadata": {
            "needs_background": "light"
          }
        }
      ]
    },
    {
      "cell_type": "code",
      "metadata": {
        "id": "8HtE-Fhp-Ddr"
      },
      "source": [
        "X.drop(labels=[' Doctorate',' Not-in-family',' Masters',' Protective-serv',' Tech-support',' Assoc-voc',' Bachelors'],axis=1,inplace=True)\n",
        "test_set.drop(labels=[' Doctorate',' Not-in-family',' Masters',' Protective-serv',' Tech-support',' Assoc-voc',' Armed-Forces',' Bachelors'],axis=1,inplace=True)\n"
      ],
      "execution_count": 84,
      "outputs": []
    },
    {
      "cell_type": "code",
      "metadata": {
        "colab": {
          "base_uri": "https://localhost:8080/"
        },
        "id": "BKXjhZfv-Dgq",
        "outputId": "bd173608-3d2f-4951-f902-c160852523f3"
      },
      "source": [
        "XGBmodel = xgc()\n",
        "XGBmodel.fit(X,y)"
      ],
      "execution_count": 85,
      "outputs": [
        {
          "output_type": "execute_result",
          "data": {
            "text/plain": [
              "XGBClassifier(base_score=0.5, booster='gbtree', colsample_bylevel=1,\n",
              "              colsample_bynode=1, colsample_bytree=1, gamma=0,\n",
              "              learning_rate=0.1, max_delta_step=0, max_depth=3,\n",
              "              min_child_weight=1, missing=None, n_estimators=100, n_jobs=1,\n",
              "              nthread=None, objective='binary:logistic', random_state=0,\n",
              "              reg_alpha=0, reg_lambda=1, scale_pos_weight=1, seed=None,\n",
              "              silent=None, subsample=1, verbosity=1)"
            ]
          },
          "metadata": {},
          "execution_count": 85
        }
      ]
    },
    {
      "cell_type": "code",
      "metadata": {
        "colab": {
          "base_uri": "https://localhost:8080/"
        },
        "id": "xJrL8KO0-Djp",
        "outputId": "be6c8121-54c9-4f45-e854-43955fd34afb"
      },
      "source": [
        "y_predict = XGBmodel.predict(X)\n",
        "accuracy_score(y,y_predict)"
      ],
      "execution_count": 86,
      "outputs": [
        {
          "output_type": "execute_result",
          "data": {
            "text/plain": [
              "0.7442448436460413"
            ]
          },
          "metadata": {},
          "execution_count": 86
        }
      ]
    },
    {
      "cell_type": "code",
      "metadata": {
        "colab": {
          "base_uri": "https://localhost:8080/"
        },
        "id": "nPVAX0RH-Dmx",
        "outputId": "affcb3ac-8c9f-4dba-d842-509bdafd4411"
      },
      "source": [
        "from sklearn.model_selection import GridSearchCV\n",
        "param_grid={\n",
        "   \n",
        "    ' learning_rate':[1,0.5,0.1,0.01,0.001],\n",
        "    'max_depth': [3,5,10,20],\n",
        "    'n_estimators':[10,50,100,200]\n",
        "    \n",
        "}\n",
        "grid= GridSearchCV(XGBmodel,param_grid, verbose=3)\n",
        "grid.fit(X,y)\n",
        "grid.best_params_"
      ],
      "execution_count": 87,
      "outputs": [
        {
          "output_type": "stream",
          "name": "stdout",
          "text": [
            "Fitting 5 folds for each of 80 candidates, totalling 400 fits\n",
            "[CV]  learning_rate=1, max_depth=3, n_estimators=10 ..................\n",
            "[CV]   learning_rate=1, max_depth=3, n_estimators=10, score=0.696, total=   0.1s\n",
            "[CV]  learning_rate=1, max_depth=3, n_estimators=10 ..................\n"
          ]
        },
        {
          "output_type": "stream",
          "name": "stderr",
          "text": [
            "[Parallel(n_jobs=1)]: Using backend SequentialBackend with 1 concurrent workers.\n",
            "[Parallel(n_jobs=1)]: Done   1 out of   1 | elapsed:    0.1s remaining:    0.0s\n"
          ]
        },
        {
          "output_type": "stream",
          "name": "stdout",
          "text": [
            "[CV]   learning_rate=1, max_depth=3, n_estimators=10, score=0.710, total=   0.1s\n",
            "[CV]  learning_rate=1, max_depth=3, n_estimators=10 ..................\n",
            "[CV]   learning_rate=1, max_depth=3, n_estimators=10, score=0.712, total=   0.1s\n",
            "[CV]  learning_rate=1, max_depth=3, n_estimators=10 ..................\n"
          ]
        },
        {
          "output_type": "stream",
          "name": "stderr",
          "text": [
            "[Parallel(n_jobs=1)]: Done   2 out of   2 | elapsed:    0.3s remaining:    0.0s\n"
          ]
        },
        {
          "output_type": "stream",
          "name": "stdout",
          "text": [
            "[CV]   learning_rate=1, max_depth=3, n_estimators=10, score=0.718, total=   0.1s\n",
            "[CV]  learning_rate=1, max_depth=3, n_estimators=10 ..................\n",
            "[CV]   learning_rate=1, max_depth=3, n_estimators=10, score=0.700, total=   0.1s\n",
            "[CV]  learning_rate=1, max_depth=3, n_estimators=50 ..................\n",
            "[CV]   learning_rate=1, max_depth=3, n_estimators=50, score=0.720, total=   0.5s\n",
            "[CV]  learning_rate=1, max_depth=3, n_estimators=50 ..................\n",
            "[CV]   learning_rate=1, max_depth=3, n_estimators=50, score=0.726, total=   0.5s\n",
            "[CV]  learning_rate=1, max_depth=3, n_estimators=50 ..................\n",
            "[CV]   learning_rate=1, max_depth=3, n_estimators=50, score=0.742, total=   0.5s\n",
            "[CV]  learning_rate=1, max_depth=3, n_estimators=50 ..................\n",
            "[CV]   learning_rate=1, max_depth=3, n_estimators=50, score=0.739, total=   0.5s\n",
            "[CV]  learning_rate=1, max_depth=3, n_estimators=50 ..................\n",
            "[CV]   learning_rate=1, max_depth=3, n_estimators=50, score=0.722, total=   0.5s\n",
            "[CV]  learning_rate=1, max_depth=3, n_estimators=100 .................\n",
            "[CV]   learning_rate=1, max_depth=3, n_estimators=100, score=0.726, total=   1.0s\n",
            "[CV]  learning_rate=1, max_depth=3, n_estimators=100 .................\n",
            "[CV]   learning_rate=1, max_depth=3, n_estimators=100, score=0.730, total=   1.0s\n",
            "[CV]  learning_rate=1, max_depth=3, n_estimators=100 .................\n",
            "[CV]   learning_rate=1, max_depth=3, n_estimators=100, score=0.746, total=   1.0s\n",
            "[CV]  learning_rate=1, max_depth=3, n_estimators=100 .................\n",
            "[CV]   learning_rate=1, max_depth=3, n_estimators=100, score=0.749, total=   1.0s\n",
            "[CV]  learning_rate=1, max_depth=3, n_estimators=100 .................\n",
            "[CV]   learning_rate=1, max_depth=3, n_estimators=100, score=0.729, total=   1.0s\n",
            "[CV]  learning_rate=1, max_depth=3, n_estimators=200 .................\n",
            "[CV]   learning_rate=1, max_depth=3, n_estimators=200, score=0.728, total=   1.9s\n",
            "[CV]  learning_rate=1, max_depth=3, n_estimators=200 .................\n",
            "[CV]   learning_rate=1, max_depth=3, n_estimators=200, score=0.730, total=   1.9s\n",
            "[CV]  learning_rate=1, max_depth=3, n_estimators=200 .................\n",
            "[CV]   learning_rate=1, max_depth=3, n_estimators=200, score=0.743, total=   1.9s\n",
            "[CV]  learning_rate=1, max_depth=3, n_estimators=200 .................\n",
            "[CV]   learning_rate=1, max_depth=3, n_estimators=200, score=0.749, total=   1.9s\n",
            "[CV]  learning_rate=1, max_depth=3, n_estimators=200 .................\n",
            "[CV]   learning_rate=1, max_depth=3, n_estimators=200, score=0.730, total=   1.9s\n",
            "[CV]  learning_rate=1, max_depth=5, n_estimators=10 ..................\n",
            "[CV]   learning_rate=1, max_depth=5, n_estimators=10, score=0.712, total=   0.2s\n",
            "[CV]  learning_rate=1, max_depth=5, n_estimators=10 ..................\n",
            "[CV]   learning_rate=1, max_depth=5, n_estimators=10, score=0.723, total=   0.2s\n",
            "[CV]  learning_rate=1, max_depth=5, n_estimators=10 ..................\n",
            "[CV]   learning_rate=1, max_depth=5, n_estimators=10, score=0.737, total=   0.2s\n",
            "[CV]  learning_rate=1, max_depth=5, n_estimators=10 ..................\n",
            "[CV]   learning_rate=1, max_depth=5, n_estimators=10, score=0.732, total=   0.2s\n",
            "[CV]  learning_rate=1, max_depth=5, n_estimators=10 ..................\n",
            "[CV]   learning_rate=1, max_depth=5, n_estimators=10, score=0.730, total=   0.2s\n",
            "[CV]  learning_rate=1, max_depth=5, n_estimators=50 ..................\n",
            "[CV]   learning_rate=1, max_depth=5, n_estimators=50, score=0.728, total=   0.8s\n",
            "[CV]  learning_rate=1, max_depth=5, n_estimators=50 ..................\n",
            "[CV]   learning_rate=1, max_depth=5, n_estimators=50, score=0.729, total=   0.8s\n",
            "[CV]  learning_rate=1, max_depth=5, n_estimators=50 ..................\n",
            "[CV]   learning_rate=1, max_depth=5, n_estimators=50, score=0.740, total=   0.8s\n",
            "[CV]  learning_rate=1, max_depth=5, n_estimators=50 ..................\n",
            "[CV]   learning_rate=1, max_depth=5, n_estimators=50, score=0.744, total=   0.8s\n",
            "[CV]  learning_rate=1, max_depth=5, n_estimators=50 ..................\n",
            "[CV]   learning_rate=1, max_depth=5, n_estimators=50, score=0.731, total=   0.8s\n",
            "[CV]  learning_rate=1, max_depth=5, n_estimators=100 .................\n",
            "[CV]   learning_rate=1, max_depth=5, n_estimators=100, score=0.727, total=   1.5s\n",
            "[CV]  learning_rate=1, max_depth=5, n_estimators=100 .................\n",
            "[CV]   learning_rate=1, max_depth=5, n_estimators=100, score=0.734, total=   1.5s\n",
            "[CV]  learning_rate=1, max_depth=5, n_estimators=100 .................\n",
            "[CV]   learning_rate=1, max_depth=5, n_estimators=100, score=0.735, total=   1.5s\n",
            "[CV]  learning_rate=1, max_depth=5, n_estimators=100 .................\n",
            "[CV]   learning_rate=1, max_depth=5, n_estimators=100, score=0.744, total=   1.5s\n",
            "[CV]  learning_rate=1, max_depth=5, n_estimators=100 .................\n",
            "[CV]   learning_rate=1, max_depth=5, n_estimators=100, score=0.730, total=   1.5s\n",
            "[CV]  learning_rate=1, max_depth=5, n_estimators=200 .................\n",
            "[CV]   learning_rate=1, max_depth=5, n_estimators=200, score=0.724, total=   2.9s\n",
            "[CV]  learning_rate=1, max_depth=5, n_estimators=200 .................\n",
            "[CV]   learning_rate=1, max_depth=5, n_estimators=200, score=0.732, total=   2.9s\n",
            "[CV]  learning_rate=1, max_depth=5, n_estimators=200 .................\n",
            "[CV]   learning_rate=1, max_depth=5, n_estimators=200, score=0.738, total=   2.9s\n",
            "[CV]  learning_rate=1, max_depth=5, n_estimators=200 .................\n",
            "[CV]   learning_rate=1, max_depth=5, n_estimators=200, score=0.743, total=   2.9s\n",
            "[CV]  learning_rate=1, max_depth=5, n_estimators=200 .................\n",
            "[CV]   learning_rate=1, max_depth=5, n_estimators=200, score=0.729, total=   2.9s\n",
            "[CV]  learning_rate=1, max_depth=10, n_estimators=10 .................\n",
            "[CV]   learning_rate=1, max_depth=10, n_estimators=10, score=0.709, total=   0.4s\n",
            "[CV]  learning_rate=1, max_depth=10, n_estimators=10 .................\n",
            "[CV]   learning_rate=1, max_depth=10, n_estimators=10, score=0.721, total=   0.4s\n",
            "[CV]  learning_rate=1, max_depth=10, n_estimators=10 .................\n",
            "[CV]   learning_rate=1, max_depth=10, n_estimators=10, score=0.727, total=   0.4s\n",
            "[CV]  learning_rate=1, max_depth=10, n_estimators=10 .................\n",
            "[CV]   learning_rate=1, max_depth=10, n_estimators=10, score=0.726, total=   0.4s\n",
            "[CV]  learning_rate=1, max_depth=10, n_estimators=10 .................\n",
            "[CV]   learning_rate=1, max_depth=10, n_estimators=10, score=0.721, total=   0.4s\n",
            "[CV]  learning_rate=1, max_depth=10, n_estimators=50 .................\n",
            "[CV]   learning_rate=1, max_depth=10, n_estimators=50, score=0.711, total=   1.7s\n",
            "[CV]  learning_rate=1, max_depth=10, n_estimators=50 .................\n",
            "[CV]   learning_rate=1, max_depth=10, n_estimators=50, score=0.724, total=   1.7s\n",
            "[CV]  learning_rate=1, max_depth=10, n_estimators=50 .................\n",
            "[CV]   learning_rate=1, max_depth=10, n_estimators=50, score=0.725, total=   1.7s\n",
            "[CV]  learning_rate=1, max_depth=10, n_estimators=50 .................\n",
            "[CV]   learning_rate=1, max_depth=10, n_estimators=50, score=0.729, total=   1.7s\n",
            "[CV]  learning_rate=1, max_depth=10, n_estimators=50 .................\n",
            "[CV]   learning_rate=1, max_depth=10, n_estimators=50, score=0.724, total=   1.7s\n",
            "[CV]  learning_rate=1, max_depth=10, n_estimators=100 ................\n",
            "[CV]   learning_rate=1, max_depth=10, n_estimators=100, score=0.711, total=   3.0s\n",
            "[CV]  learning_rate=1, max_depth=10, n_estimators=100 ................\n",
            "[CV]   learning_rate=1, max_depth=10, n_estimators=100, score=0.721, total=   3.0s\n",
            "[CV]  learning_rate=1, max_depth=10, n_estimators=100 ................\n",
            "[CV]   learning_rate=1, max_depth=10, n_estimators=100, score=0.725, total=   3.1s\n",
            "[CV]  learning_rate=1, max_depth=10, n_estimators=100 ................\n",
            "[CV]   learning_rate=1, max_depth=10, n_estimators=100, score=0.728, total=   3.0s\n",
            "[CV]  learning_rate=1, max_depth=10, n_estimators=100 ................\n",
            "[CV]   learning_rate=1, max_depth=10, n_estimators=100, score=0.722, total=   3.0s\n",
            "[CV]  learning_rate=1, max_depth=10, n_estimators=200 ................\n",
            "[CV]   learning_rate=1, max_depth=10, n_estimators=200, score=0.700, total=   5.8s\n",
            "[CV]  learning_rate=1, max_depth=10, n_estimators=200 ................\n",
            "[CV]   learning_rate=1, max_depth=10, n_estimators=200, score=0.721, total=   5.7s\n",
            "[CV]  learning_rate=1, max_depth=10, n_estimators=200 ................\n",
            "[CV]   learning_rate=1, max_depth=10, n_estimators=200, score=0.718, total=   5.8s\n",
            "[CV]  learning_rate=1, max_depth=10, n_estimators=200 ................\n",
            "[CV]   learning_rate=1, max_depth=10, n_estimators=200, score=0.719, total=   5.7s\n",
            "[CV]  learning_rate=1, max_depth=10, n_estimators=200 ................\n",
            "[CV]   learning_rate=1, max_depth=10, n_estimators=200, score=0.709, total=   5.8s\n",
            "[CV]  learning_rate=1, max_depth=20, n_estimators=10 .................\n",
            "[CV]   learning_rate=1, max_depth=20, n_estimators=10, score=0.691, total=   0.8s\n",
            "[CV]  learning_rate=1, max_depth=20, n_estimators=10 .................\n",
            "[CV]   learning_rate=1, max_depth=20, n_estimators=10, score=0.703, total=   0.8s\n",
            "[CV]  learning_rate=1, max_depth=20, n_estimators=10 .................\n",
            "[CV]   learning_rate=1, max_depth=20, n_estimators=10, score=0.708, total=   0.8s\n",
            "[CV]  learning_rate=1, max_depth=20, n_estimators=10 .................\n",
            "[CV]   learning_rate=1, max_depth=20, n_estimators=10, score=0.701, total=   0.8s\n",
            "[CV]  learning_rate=1, max_depth=20, n_estimators=10 .................\n",
            "[CV]   learning_rate=1, max_depth=20, n_estimators=10, score=0.696, total=   0.8s\n",
            "[CV]  learning_rate=1, max_depth=20, n_estimators=50 .................\n",
            "[CV]   learning_rate=1, max_depth=20, n_estimators=50, score=0.687, total=   3.7s\n",
            "[CV]  learning_rate=1, max_depth=20, n_estimators=50 .................\n",
            "[CV]   learning_rate=1, max_depth=20, n_estimators=50, score=0.697, total=   3.7s\n",
            "[CV]  learning_rate=1, max_depth=20, n_estimators=50 .................\n",
            "[CV]   learning_rate=1, max_depth=20, n_estimators=50, score=0.708, total=   3.7s\n",
            "[CV]  learning_rate=1, max_depth=20, n_estimators=50 .................\n",
            "[CV]   learning_rate=1, max_depth=20, n_estimators=50, score=0.700, total=   3.7s\n",
            "[CV]  learning_rate=1, max_depth=20, n_estimators=50 .................\n",
            "[CV]   learning_rate=1, max_depth=20, n_estimators=50, score=0.696, total=   3.7s\n",
            "[CV]  learning_rate=1, max_depth=20, n_estimators=100 ................\n",
            "[CV]   learning_rate=1, max_depth=20, n_estimators=100, score=0.688, total=   6.6s\n",
            "[CV]  learning_rate=1, max_depth=20, n_estimators=100 ................\n",
            "[CV]   learning_rate=1, max_depth=20, n_estimators=100, score=0.699, total=   6.7s\n",
            "[CV]  learning_rate=1, max_depth=20, n_estimators=100 ................\n",
            "[CV]   learning_rate=1, max_depth=20, n_estimators=100, score=0.708, total=   6.7s\n",
            "[CV]  learning_rate=1, max_depth=20, n_estimators=100 ................\n",
            "[CV]   learning_rate=1, max_depth=20, n_estimators=100, score=0.700, total=   6.6s\n",
            "[CV]  learning_rate=1, max_depth=20, n_estimators=100 ................\n",
            "[CV]   learning_rate=1, max_depth=20, n_estimators=100, score=0.698, total=   6.7s\n",
            "[CV]  learning_rate=1, max_depth=20, n_estimators=200 ................\n",
            "[CV]   learning_rate=1, max_depth=20, n_estimators=200, score=0.688, total=  12.4s\n",
            "[CV]  learning_rate=1, max_depth=20, n_estimators=200 ................\n",
            "[CV]   learning_rate=1, max_depth=20, n_estimators=200, score=0.699, total=  12.8s\n",
            "[CV]  learning_rate=1, max_depth=20, n_estimators=200 ................\n",
            "[CV]   learning_rate=1, max_depth=20, n_estimators=200, score=0.707, total=  12.5s\n",
            "[CV]  learning_rate=1, max_depth=20, n_estimators=200 ................\n",
            "[CV]   learning_rate=1, max_depth=20, n_estimators=200, score=0.693, total=  12.4s\n",
            "[CV]  learning_rate=1, max_depth=20, n_estimators=200 ................\n",
            "[CV]   learning_rate=1, max_depth=20, n_estimators=200, score=0.695, total=  12.6s\n",
            "[CV]  learning_rate=0.5, max_depth=3, n_estimators=10 ................\n",
            "[CV]   learning_rate=0.5, max_depth=3, n_estimators=10, score=0.696, total=   0.1s\n",
            "[CV]  learning_rate=0.5, max_depth=3, n_estimators=10 ................\n",
            "[CV]   learning_rate=0.5, max_depth=3, n_estimators=10, score=0.710, total=   0.1s\n",
            "[CV]  learning_rate=0.5, max_depth=3, n_estimators=10 ................\n",
            "[CV]   learning_rate=0.5, max_depth=3, n_estimators=10, score=0.712, total=   0.1s\n",
            "[CV]  learning_rate=0.5, max_depth=3, n_estimators=10 ................\n",
            "[CV]   learning_rate=0.5, max_depth=3, n_estimators=10, score=0.718, total=   0.1s\n",
            "[CV]  learning_rate=0.5, max_depth=3, n_estimators=10 ................\n",
            "[CV]   learning_rate=0.5, max_depth=3, n_estimators=10, score=0.700, total=   0.1s\n",
            "[CV]  learning_rate=0.5, max_depth=3, n_estimators=50 ................\n",
            "[CV]   learning_rate=0.5, max_depth=3, n_estimators=50, score=0.720, total=   0.5s\n",
            "[CV]  learning_rate=0.5, max_depth=3, n_estimators=50 ................\n",
            "[CV]   learning_rate=0.5, max_depth=3, n_estimators=50, score=0.726, total=   0.5s\n",
            "[CV]  learning_rate=0.5, max_depth=3, n_estimators=50 ................\n",
            "[CV]   learning_rate=0.5, max_depth=3, n_estimators=50, score=0.742, total=   0.5s\n",
            "[CV]  learning_rate=0.5, max_depth=3, n_estimators=50 ................\n",
            "[CV]   learning_rate=0.5, max_depth=3, n_estimators=50, score=0.739, total=   0.5s\n",
            "[CV]  learning_rate=0.5, max_depth=3, n_estimators=50 ................\n",
            "[CV]   learning_rate=0.5, max_depth=3, n_estimators=50, score=0.722, total=   0.5s\n",
            "[CV]  learning_rate=0.5, max_depth=3, n_estimators=100 ...............\n",
            "[CV]   learning_rate=0.5, max_depth=3, n_estimators=100, score=0.726, total=   1.0s\n",
            "[CV]  learning_rate=0.5, max_depth=3, n_estimators=100 ...............\n",
            "[CV]   learning_rate=0.5, max_depth=3, n_estimators=100, score=0.730, total=   1.0s\n",
            "[CV]  learning_rate=0.5, max_depth=3, n_estimators=100 ...............\n",
            "[CV]   learning_rate=0.5, max_depth=3, n_estimators=100, score=0.746, total=   1.0s\n",
            "[CV]  learning_rate=0.5, max_depth=3, n_estimators=100 ...............\n",
            "[CV]   learning_rate=0.5, max_depth=3, n_estimators=100, score=0.749, total=   1.0s\n",
            "[CV]  learning_rate=0.5, max_depth=3, n_estimators=100 ...............\n",
            "[CV]   learning_rate=0.5, max_depth=3, n_estimators=100, score=0.729, total=   1.0s\n",
            "[CV]  learning_rate=0.5, max_depth=3, n_estimators=200 ...............\n",
            "[CV]   learning_rate=0.5, max_depth=3, n_estimators=200, score=0.728, total=   1.9s\n",
            "[CV]  learning_rate=0.5, max_depth=3, n_estimators=200 ...............\n",
            "[CV]   learning_rate=0.5, max_depth=3, n_estimators=200, score=0.730, total=   1.9s\n",
            "[CV]  learning_rate=0.5, max_depth=3, n_estimators=200 ...............\n",
            "[CV]   learning_rate=0.5, max_depth=3, n_estimators=200, score=0.743, total=   1.9s\n",
            "[CV]  learning_rate=0.5, max_depth=3, n_estimators=200 ...............\n",
            "[CV]   learning_rate=0.5, max_depth=3, n_estimators=200, score=0.749, total=   1.9s\n",
            "[CV]  learning_rate=0.5, max_depth=3, n_estimators=200 ...............\n",
            "[CV]   learning_rate=0.5, max_depth=3, n_estimators=200, score=0.730, total=   1.9s\n",
            "[CV]  learning_rate=0.5, max_depth=5, n_estimators=10 ................\n",
            "[CV]   learning_rate=0.5, max_depth=5, n_estimators=10, score=0.712, total=   0.2s\n",
            "[CV]  learning_rate=0.5, max_depth=5, n_estimators=10 ................\n",
            "[CV]   learning_rate=0.5, max_depth=5, n_estimators=10, score=0.723, total=   0.2s\n",
            "[CV]  learning_rate=0.5, max_depth=5, n_estimators=10 ................\n",
            "[CV]   learning_rate=0.5, max_depth=5, n_estimators=10, score=0.737, total=   0.2s\n",
            "[CV]  learning_rate=0.5, max_depth=5, n_estimators=10 ................\n",
            "[CV]   learning_rate=0.5, max_depth=5, n_estimators=10, score=0.732, total=   0.2s\n",
            "[CV]  learning_rate=0.5, max_depth=5, n_estimators=10 ................\n",
            "[CV]   learning_rate=0.5, max_depth=5, n_estimators=10, score=0.730, total=   0.2s\n",
            "[CV]  learning_rate=0.5, max_depth=5, n_estimators=50 ................\n",
            "[CV]   learning_rate=0.5, max_depth=5, n_estimators=50, score=0.728, total=   0.8s\n",
            "[CV]  learning_rate=0.5, max_depth=5, n_estimators=50 ................\n",
            "[CV]   learning_rate=0.5, max_depth=5, n_estimators=50, score=0.729, total=   0.8s\n",
            "[CV]  learning_rate=0.5, max_depth=5, n_estimators=50 ................\n",
            "[CV]   learning_rate=0.5, max_depth=5, n_estimators=50, score=0.740, total=   0.8s\n",
            "[CV]  learning_rate=0.5, max_depth=5, n_estimators=50 ................\n",
            "[CV]   learning_rate=0.5, max_depth=5, n_estimators=50, score=0.744, total=   0.8s\n",
            "[CV]  learning_rate=0.5, max_depth=5, n_estimators=50 ................\n",
            "[CV]   learning_rate=0.5, max_depth=5, n_estimators=50, score=0.731, total=   0.8s\n",
            "[CV]  learning_rate=0.5, max_depth=5, n_estimators=100 ...............\n",
            "[CV]   learning_rate=0.5, max_depth=5, n_estimators=100, score=0.727, total=   1.5s\n",
            "[CV]  learning_rate=0.5, max_depth=5, n_estimators=100 ...............\n",
            "[CV]   learning_rate=0.5, max_depth=5, n_estimators=100, score=0.734, total=   1.5s\n",
            "[CV]  learning_rate=0.5, max_depth=5, n_estimators=100 ...............\n",
            "[CV]   learning_rate=0.5, max_depth=5, n_estimators=100, score=0.735, total=   1.5s\n",
            "[CV]  learning_rate=0.5, max_depth=5, n_estimators=100 ...............\n",
            "[CV]   learning_rate=0.5, max_depth=5, n_estimators=100, score=0.744, total=   1.5s\n",
            "[CV]  learning_rate=0.5, max_depth=5, n_estimators=100 ...............\n",
            "[CV]   learning_rate=0.5, max_depth=5, n_estimators=100, score=0.730, total=   1.5s\n",
            "[CV]  learning_rate=0.5, max_depth=5, n_estimators=200 ...............\n",
            "[CV]   learning_rate=0.5, max_depth=5, n_estimators=200, score=0.724, total=   2.9s\n",
            "[CV]  learning_rate=0.5, max_depth=5, n_estimators=200 ...............\n",
            "[CV]   learning_rate=0.5, max_depth=5, n_estimators=200, score=0.732, total=   2.9s\n",
            "[CV]  learning_rate=0.5, max_depth=5, n_estimators=200 ...............\n",
            "[CV]   learning_rate=0.5, max_depth=5, n_estimators=200, score=0.738, total=   2.9s\n",
            "[CV]  learning_rate=0.5, max_depth=5, n_estimators=200 ...............\n",
            "[CV]   learning_rate=0.5, max_depth=5, n_estimators=200, score=0.743, total=   2.9s\n",
            "[CV]  learning_rate=0.5, max_depth=5, n_estimators=200 ...............\n",
            "[CV]   learning_rate=0.5, max_depth=5, n_estimators=200, score=0.729, total=   2.9s\n",
            "[CV]  learning_rate=0.5, max_depth=10, n_estimators=10 ...............\n",
            "[CV]   learning_rate=0.5, max_depth=10, n_estimators=10, score=0.709, total=   0.4s\n",
            "[CV]  learning_rate=0.5, max_depth=10, n_estimators=10 ...............\n",
            "[CV]   learning_rate=0.5, max_depth=10, n_estimators=10, score=0.721, total=   0.4s\n",
            "[CV]  learning_rate=0.5, max_depth=10, n_estimators=10 ...............\n",
            "[CV]   learning_rate=0.5, max_depth=10, n_estimators=10, score=0.727, total=   0.4s\n",
            "[CV]  learning_rate=0.5, max_depth=10, n_estimators=10 ...............\n",
            "[CV]   learning_rate=0.5, max_depth=10, n_estimators=10, score=0.726, total=   0.4s\n",
            "[CV]  learning_rate=0.5, max_depth=10, n_estimators=10 ...............\n",
            "[CV]   learning_rate=0.5, max_depth=10, n_estimators=10, score=0.721, total=   0.4s\n",
            "[CV]  learning_rate=0.5, max_depth=10, n_estimators=50 ...............\n",
            "[CV]   learning_rate=0.5, max_depth=10, n_estimators=50, score=0.711, total=   1.7s\n",
            "[CV]  learning_rate=0.5, max_depth=10, n_estimators=50 ...............\n",
            "[CV]   learning_rate=0.5, max_depth=10, n_estimators=50, score=0.724, total=   1.7s\n",
            "[CV]  learning_rate=0.5, max_depth=10, n_estimators=50 ...............\n",
            "[CV]   learning_rate=0.5, max_depth=10, n_estimators=50, score=0.725, total=   1.7s\n",
            "[CV]  learning_rate=0.5, max_depth=10, n_estimators=50 ...............\n",
            "[CV]   learning_rate=0.5, max_depth=10, n_estimators=50, score=0.729, total=   1.7s\n",
            "[CV]  learning_rate=0.5, max_depth=10, n_estimators=50 ...............\n",
            "[CV]   learning_rate=0.5, max_depth=10, n_estimators=50, score=0.724, total=   1.7s\n",
            "[CV]  learning_rate=0.5, max_depth=10, n_estimators=100 ..............\n",
            "[CV]   learning_rate=0.5, max_depth=10, n_estimators=100, score=0.711, total=   3.0s\n",
            "[CV]  learning_rate=0.5, max_depth=10, n_estimators=100 ..............\n",
            "[CV]   learning_rate=0.5, max_depth=10, n_estimators=100, score=0.721, total=   3.0s\n",
            "[CV]  learning_rate=0.5, max_depth=10, n_estimators=100 ..............\n",
            "[CV]   learning_rate=0.5, max_depth=10, n_estimators=100, score=0.725, total=   3.0s\n",
            "[CV]  learning_rate=0.5, max_depth=10, n_estimators=100 ..............\n",
            "[CV]   learning_rate=0.5, max_depth=10, n_estimators=100, score=0.728, total=   3.0s\n",
            "[CV]  learning_rate=0.5, max_depth=10, n_estimators=100 ..............\n",
            "[CV]   learning_rate=0.5, max_depth=10, n_estimators=100, score=0.722, total=   3.0s\n",
            "[CV]  learning_rate=0.5, max_depth=10, n_estimators=200 ..............\n",
            "[CV]   learning_rate=0.5, max_depth=10, n_estimators=200, score=0.700, total=   5.8s\n",
            "[CV]  learning_rate=0.5, max_depth=10, n_estimators=200 ..............\n",
            "[CV]   learning_rate=0.5, max_depth=10, n_estimators=200, score=0.721, total=   5.7s\n",
            "[CV]  learning_rate=0.5, max_depth=10, n_estimators=200 ..............\n",
            "[CV]   learning_rate=0.5, max_depth=10, n_estimators=200, score=0.718, total=   5.8s\n",
            "[CV]  learning_rate=0.5, max_depth=10, n_estimators=200 ..............\n",
            "[CV]   learning_rate=0.5, max_depth=10, n_estimators=200, score=0.719, total=   5.7s\n",
            "[CV]  learning_rate=0.5, max_depth=10, n_estimators=200 ..............\n",
            "[CV]   learning_rate=0.5, max_depth=10, n_estimators=200, score=0.709, total=   5.7s\n",
            "[CV]  learning_rate=0.5, max_depth=20, n_estimators=10 ...............\n",
            "[CV]   learning_rate=0.5, max_depth=20, n_estimators=10, score=0.691, total=   0.8s\n",
            "[CV]  learning_rate=0.5, max_depth=20, n_estimators=10 ...............\n",
            "[CV]   learning_rate=0.5, max_depth=20, n_estimators=10, score=0.703, total=   0.8s\n",
            "[CV]  learning_rate=0.5, max_depth=20, n_estimators=10 ...............\n",
            "[CV]   learning_rate=0.5, max_depth=20, n_estimators=10, score=0.708, total=   0.8s\n",
            "[CV]  learning_rate=0.5, max_depth=20, n_estimators=10 ...............\n",
            "[CV]   learning_rate=0.5, max_depth=20, n_estimators=10, score=0.701, total=   0.8s\n",
            "[CV]  learning_rate=0.5, max_depth=20, n_estimators=10 ...............\n",
            "[CV]   learning_rate=0.5, max_depth=20, n_estimators=10, score=0.696, total=   0.8s\n",
            "[CV]  learning_rate=0.5, max_depth=20, n_estimators=50 ...............\n",
            "[CV]   learning_rate=0.5, max_depth=20, n_estimators=50, score=0.687, total=   3.7s\n",
            "[CV]  learning_rate=0.5, max_depth=20, n_estimators=50 ...............\n",
            "[CV]   learning_rate=0.5, max_depth=20, n_estimators=50, score=0.697, total=   3.7s\n",
            "[CV]  learning_rate=0.5, max_depth=20, n_estimators=50 ...............\n",
            "[CV]   learning_rate=0.5, max_depth=20, n_estimators=50, score=0.708, total=   3.7s\n",
            "[CV]  learning_rate=0.5, max_depth=20, n_estimators=50 ...............\n",
            "[CV]   learning_rate=0.5, max_depth=20, n_estimators=50, score=0.700, total=   3.7s\n",
            "[CV]  learning_rate=0.5, max_depth=20, n_estimators=50 ...............\n",
            "[CV]   learning_rate=0.5, max_depth=20, n_estimators=50, score=0.696, total=   3.7s\n",
            "[CV]  learning_rate=0.5, max_depth=20, n_estimators=100 ..............\n",
            "[CV]   learning_rate=0.5, max_depth=20, n_estimators=100, score=0.688, total=   6.6s\n",
            "[CV]  learning_rate=0.5, max_depth=20, n_estimators=100 ..............\n",
            "[CV]   learning_rate=0.5, max_depth=20, n_estimators=100, score=0.699, total=   6.7s\n",
            "[CV]  learning_rate=0.5, max_depth=20, n_estimators=100 ..............\n",
            "[CV]   learning_rate=0.5, max_depth=20, n_estimators=100, score=0.708, total=   6.7s\n",
            "[CV]  learning_rate=0.5, max_depth=20, n_estimators=100 ..............\n",
            "[CV]   learning_rate=0.5, max_depth=20, n_estimators=100, score=0.700, total=   6.6s\n",
            "[CV]  learning_rate=0.5, max_depth=20, n_estimators=100 ..............\n",
            "[CV]   learning_rate=0.5, max_depth=20, n_estimators=100, score=0.698, total=   6.6s\n",
            "[CV]  learning_rate=0.5, max_depth=20, n_estimators=200 ..............\n",
            "[CV]   learning_rate=0.5, max_depth=20, n_estimators=200, score=0.688, total=  12.4s\n",
            "[CV]  learning_rate=0.5, max_depth=20, n_estimators=200 ..............\n",
            "[CV]   learning_rate=0.5, max_depth=20, n_estimators=200, score=0.699, total=  12.8s\n",
            "[CV]  learning_rate=0.5, max_depth=20, n_estimators=200 ..............\n",
            "[CV]   learning_rate=0.5, max_depth=20, n_estimators=200, score=0.707, total=  12.5s\n",
            "[CV]  learning_rate=0.5, max_depth=20, n_estimators=200 ..............\n",
            "[CV]   learning_rate=0.5, max_depth=20, n_estimators=200, score=0.693, total=  12.4s\n",
            "[CV]  learning_rate=0.5, max_depth=20, n_estimators=200 ..............\n",
            "[CV]   learning_rate=0.5, max_depth=20, n_estimators=200, score=0.695, total=  12.6s\n",
            "[CV]  learning_rate=0.1, max_depth=3, n_estimators=10 ................\n",
            "[CV]   learning_rate=0.1, max_depth=3, n_estimators=10, score=0.696, total=   0.1s\n",
            "[CV]  learning_rate=0.1, max_depth=3, n_estimators=10 ................\n",
            "[CV]   learning_rate=0.1, max_depth=3, n_estimators=10, score=0.710, total=   0.1s\n",
            "[CV]  learning_rate=0.1, max_depth=3, n_estimators=10 ................\n",
            "[CV]   learning_rate=0.1, max_depth=3, n_estimators=10, score=0.712, total=   0.1s\n",
            "[CV]  learning_rate=0.1, max_depth=3, n_estimators=10 ................\n",
            "[CV]   learning_rate=0.1, max_depth=3, n_estimators=10, score=0.718, total=   0.1s\n",
            "[CV]  learning_rate=0.1, max_depth=3, n_estimators=10 ................\n",
            "[CV]   learning_rate=0.1, max_depth=3, n_estimators=10, score=0.700, total=   0.1s\n",
            "[CV]  learning_rate=0.1, max_depth=3, n_estimators=50 ................\n",
            "[CV]   learning_rate=0.1, max_depth=3, n_estimators=50, score=0.720, total=   0.5s\n",
            "[CV]  learning_rate=0.1, max_depth=3, n_estimators=50 ................\n",
            "[CV]   learning_rate=0.1, max_depth=3, n_estimators=50, score=0.726, total=   0.5s\n",
            "[CV]  learning_rate=0.1, max_depth=3, n_estimators=50 ................\n",
            "[CV]   learning_rate=0.1, max_depth=3, n_estimators=50, score=0.742, total=   0.5s\n",
            "[CV]  learning_rate=0.1, max_depth=3, n_estimators=50 ................\n",
            "[CV]   learning_rate=0.1, max_depth=3, n_estimators=50, score=0.739, total=   0.5s\n",
            "[CV]  learning_rate=0.1, max_depth=3, n_estimators=50 ................\n",
            "[CV]   learning_rate=0.1, max_depth=3, n_estimators=50, score=0.722, total=   0.5s\n",
            "[CV]  learning_rate=0.1, max_depth=3, n_estimators=100 ...............\n",
            "[CV]   learning_rate=0.1, max_depth=3, n_estimators=100, score=0.726, total=   1.0s\n",
            "[CV]  learning_rate=0.1, max_depth=3, n_estimators=100 ...............\n",
            "[CV]   learning_rate=0.1, max_depth=3, n_estimators=100, score=0.730, total=   1.0s\n",
            "[CV]  learning_rate=0.1, max_depth=3, n_estimators=100 ...............\n",
            "[CV]   learning_rate=0.1, max_depth=3, n_estimators=100, score=0.746, total=   1.0s\n",
            "[CV]  learning_rate=0.1, max_depth=3, n_estimators=100 ...............\n",
            "[CV]   learning_rate=0.1, max_depth=3, n_estimators=100, score=0.749, total=   1.0s\n",
            "[CV]  learning_rate=0.1, max_depth=3, n_estimators=100 ...............\n",
            "[CV]   learning_rate=0.1, max_depth=3, n_estimators=100, score=0.729, total=   1.0s\n",
            "[CV]  learning_rate=0.1, max_depth=3, n_estimators=200 ...............\n",
            "[CV]   learning_rate=0.1, max_depth=3, n_estimators=200, score=0.728, total=   1.9s\n",
            "[CV]  learning_rate=0.1, max_depth=3, n_estimators=200 ...............\n",
            "[CV]   learning_rate=0.1, max_depth=3, n_estimators=200, score=0.730, total=   1.9s\n",
            "[CV]  learning_rate=0.1, max_depth=3, n_estimators=200 ...............\n",
            "[CV]   learning_rate=0.1, max_depth=3, n_estimators=200, score=0.743, total=   1.9s\n",
            "[CV]  learning_rate=0.1, max_depth=3, n_estimators=200 ...............\n",
            "[CV]   learning_rate=0.1, max_depth=3, n_estimators=200, score=0.749, total=   1.9s\n",
            "[CV]  learning_rate=0.1, max_depth=3, n_estimators=200 ...............\n",
            "[CV]   learning_rate=0.1, max_depth=3, n_estimators=200, score=0.730, total=   1.9s\n",
            "[CV]  learning_rate=0.1, max_depth=5, n_estimators=10 ................\n",
            "[CV]   learning_rate=0.1, max_depth=5, n_estimators=10, score=0.712, total=   0.2s\n",
            "[CV]  learning_rate=0.1, max_depth=5, n_estimators=10 ................\n",
            "[CV]   learning_rate=0.1, max_depth=5, n_estimators=10, score=0.723, total=   0.2s\n",
            "[CV]  learning_rate=0.1, max_depth=5, n_estimators=10 ................\n",
            "[CV]   learning_rate=0.1, max_depth=5, n_estimators=10, score=0.737, total=   0.2s\n",
            "[CV]  learning_rate=0.1, max_depth=5, n_estimators=10 ................\n",
            "[CV]   learning_rate=0.1, max_depth=5, n_estimators=10, score=0.732, total=   0.2s\n",
            "[CV]  learning_rate=0.1, max_depth=5, n_estimators=10 ................\n",
            "[CV]   learning_rate=0.1, max_depth=5, n_estimators=10, score=0.730, total=   0.2s\n",
            "[CV]  learning_rate=0.1, max_depth=5, n_estimators=50 ................\n",
            "[CV]   learning_rate=0.1, max_depth=5, n_estimators=50, score=0.728, total=   0.8s\n",
            "[CV]  learning_rate=0.1, max_depth=5, n_estimators=50 ................\n",
            "[CV]   learning_rate=0.1, max_depth=5, n_estimators=50, score=0.729, total=   0.8s\n",
            "[CV]  learning_rate=0.1, max_depth=5, n_estimators=50 ................\n",
            "[CV]   learning_rate=0.1, max_depth=5, n_estimators=50, score=0.740, total=   0.8s\n",
            "[CV]  learning_rate=0.1, max_depth=5, n_estimators=50 ................\n",
            "[CV]   learning_rate=0.1, max_depth=5, n_estimators=50, score=0.744, total=   0.8s\n",
            "[CV]  learning_rate=0.1, max_depth=5, n_estimators=50 ................\n",
            "[CV]   learning_rate=0.1, max_depth=5, n_estimators=50, score=0.731, total=   0.8s\n",
            "[CV]  learning_rate=0.1, max_depth=5, n_estimators=100 ...............\n",
            "[CV]   learning_rate=0.1, max_depth=5, n_estimators=100, score=0.727, total=   1.5s\n",
            "[CV]  learning_rate=0.1, max_depth=5, n_estimators=100 ...............\n",
            "[CV]   learning_rate=0.1, max_depth=5, n_estimators=100, score=0.734, total=   1.5s\n",
            "[CV]  learning_rate=0.1, max_depth=5, n_estimators=100 ...............\n",
            "[CV]   learning_rate=0.1, max_depth=5, n_estimators=100, score=0.735, total=   1.5s\n",
            "[CV]  learning_rate=0.1, max_depth=5, n_estimators=100 ...............\n",
            "[CV]   learning_rate=0.1, max_depth=5, n_estimators=100, score=0.744, total=   1.5s\n",
            "[CV]  learning_rate=0.1, max_depth=5, n_estimators=100 ...............\n",
            "[CV]   learning_rate=0.1, max_depth=5, n_estimators=100, score=0.730, total=   1.5s\n",
            "[CV]  learning_rate=0.1, max_depth=5, n_estimators=200 ...............\n",
            "[CV]   learning_rate=0.1, max_depth=5, n_estimators=200, score=0.724, total=   2.9s\n",
            "[CV]  learning_rate=0.1, max_depth=5, n_estimators=200 ...............\n",
            "[CV]   learning_rate=0.1, max_depth=5, n_estimators=200, score=0.732, total=   2.9s\n",
            "[CV]  learning_rate=0.1, max_depth=5, n_estimators=200 ...............\n",
            "[CV]   learning_rate=0.1, max_depth=5, n_estimators=200, score=0.738, total=   2.9s\n",
            "[CV]  learning_rate=0.1, max_depth=5, n_estimators=200 ...............\n",
            "[CV]   learning_rate=0.1, max_depth=5, n_estimators=200, score=0.743, total=   2.9s\n",
            "[CV]  learning_rate=0.1, max_depth=5, n_estimators=200 ...............\n",
            "[CV]   learning_rate=0.1, max_depth=5, n_estimators=200, score=0.729, total=   2.9s\n",
            "[CV]  learning_rate=0.1, max_depth=10, n_estimators=10 ...............\n",
            "[CV]   learning_rate=0.1, max_depth=10, n_estimators=10, score=0.709, total=   0.4s\n",
            "[CV]  learning_rate=0.1, max_depth=10, n_estimators=10 ...............\n",
            "[CV]   learning_rate=0.1, max_depth=10, n_estimators=10, score=0.721, total=   0.4s\n",
            "[CV]  learning_rate=0.1, max_depth=10, n_estimators=10 ...............\n",
            "[CV]   learning_rate=0.1, max_depth=10, n_estimators=10, score=0.727, total=   0.4s\n",
            "[CV]  learning_rate=0.1, max_depth=10, n_estimators=10 ...............\n",
            "[CV]   learning_rate=0.1, max_depth=10, n_estimators=10, score=0.726, total=   0.4s\n",
            "[CV]  learning_rate=0.1, max_depth=10, n_estimators=10 ...............\n",
            "[CV]   learning_rate=0.1, max_depth=10, n_estimators=10, score=0.721, total=   0.4s\n",
            "[CV]  learning_rate=0.1, max_depth=10, n_estimators=50 ...............\n",
            "[CV]   learning_rate=0.1, max_depth=10, n_estimators=50, score=0.711, total=   1.7s\n",
            "[CV]  learning_rate=0.1, max_depth=10, n_estimators=50 ...............\n",
            "[CV]   learning_rate=0.1, max_depth=10, n_estimators=50, score=0.724, total=   1.7s\n",
            "[CV]  learning_rate=0.1, max_depth=10, n_estimators=50 ...............\n",
            "[CV]   learning_rate=0.1, max_depth=10, n_estimators=50, score=0.725, total=   1.7s\n",
            "[CV]  learning_rate=0.1, max_depth=10, n_estimators=50 ...............\n",
            "[CV]   learning_rate=0.1, max_depth=10, n_estimators=50, score=0.729, total=   1.7s\n",
            "[CV]  learning_rate=0.1, max_depth=10, n_estimators=50 ...............\n",
            "[CV]   learning_rate=0.1, max_depth=10, n_estimators=50, score=0.724, total=   1.7s\n",
            "[CV]  learning_rate=0.1, max_depth=10, n_estimators=100 ..............\n",
            "[CV]   learning_rate=0.1, max_depth=10, n_estimators=100, score=0.711, total=   3.1s\n",
            "[CV]  learning_rate=0.1, max_depth=10, n_estimators=100 ..............\n",
            "[CV]   learning_rate=0.1, max_depth=10, n_estimators=100, score=0.721, total=   3.0s\n",
            "[CV]  learning_rate=0.1, max_depth=10, n_estimators=100 ..............\n",
            "[CV]   learning_rate=0.1, max_depth=10, n_estimators=100, score=0.725, total=   3.0s\n",
            "[CV]  learning_rate=0.1, max_depth=10, n_estimators=100 ..............\n",
            "[CV]   learning_rate=0.1, max_depth=10, n_estimators=100, score=0.728, total=   3.0s\n",
            "[CV]  learning_rate=0.1, max_depth=10, n_estimators=100 ..............\n",
            "[CV]   learning_rate=0.1, max_depth=10, n_estimators=100, score=0.722, total=   3.0s\n",
            "[CV]  learning_rate=0.1, max_depth=10, n_estimators=200 ..............\n",
            "[CV]   learning_rate=0.1, max_depth=10, n_estimators=200, score=0.700, total=   5.8s\n",
            "[CV]  learning_rate=0.1, max_depth=10, n_estimators=200 ..............\n",
            "[CV]   learning_rate=0.1, max_depth=10, n_estimators=200, score=0.721, total=   5.8s\n",
            "[CV]  learning_rate=0.1, max_depth=10, n_estimators=200 ..............\n",
            "[CV]   learning_rate=0.1, max_depth=10, n_estimators=200, score=0.718, total=   5.7s\n",
            "[CV]  learning_rate=0.1, max_depth=10, n_estimators=200 ..............\n",
            "[CV]   learning_rate=0.1, max_depth=10, n_estimators=200, score=0.719, total=   5.7s\n",
            "[CV]  learning_rate=0.1, max_depth=10, n_estimators=200 ..............\n",
            "[CV]   learning_rate=0.1, max_depth=10, n_estimators=200, score=0.709, total=   5.7s\n",
            "[CV]  learning_rate=0.1, max_depth=20, n_estimators=10 ...............\n",
            "[CV]   learning_rate=0.1, max_depth=20, n_estimators=10, score=0.691, total=   0.8s\n",
            "[CV]  learning_rate=0.1, max_depth=20, n_estimators=10 ...............\n",
            "[CV]   learning_rate=0.1, max_depth=20, n_estimators=10, score=0.703, total=   0.8s\n",
            "[CV]  learning_rate=0.1, max_depth=20, n_estimators=10 ...............\n",
            "[CV]   learning_rate=0.1, max_depth=20, n_estimators=10, score=0.708, total=   0.8s\n",
            "[CV]  learning_rate=0.1, max_depth=20, n_estimators=10 ...............\n",
            "[CV]   learning_rate=0.1, max_depth=20, n_estimators=10, score=0.701, total=   0.8s\n",
            "[CV]  learning_rate=0.1, max_depth=20, n_estimators=10 ...............\n",
            "[CV]   learning_rate=0.1, max_depth=20, n_estimators=10, score=0.696, total=   0.8s\n",
            "[CV]  learning_rate=0.1, max_depth=20, n_estimators=50 ...............\n",
            "[CV]   learning_rate=0.1, max_depth=20, n_estimators=50, score=0.687, total=   3.7s\n",
            "[CV]  learning_rate=0.1, max_depth=20, n_estimators=50 ...............\n",
            "[CV]   learning_rate=0.1, max_depth=20, n_estimators=50, score=0.697, total=   3.7s\n",
            "[CV]  learning_rate=0.1, max_depth=20, n_estimators=50 ...............\n",
            "[CV]   learning_rate=0.1, max_depth=20, n_estimators=50, score=0.708, total=   3.7s\n",
            "[CV]  learning_rate=0.1, max_depth=20, n_estimators=50 ...............\n",
            "[CV]   learning_rate=0.1, max_depth=20, n_estimators=50, score=0.700, total=   3.7s\n",
            "[CV]  learning_rate=0.1, max_depth=20, n_estimators=50 ...............\n",
            "[CV]   learning_rate=0.1, max_depth=20, n_estimators=50, score=0.696, total=   3.7s\n",
            "[CV]  learning_rate=0.1, max_depth=20, n_estimators=100 ..............\n",
            "[CV]   learning_rate=0.1, max_depth=20, n_estimators=100, score=0.688, total=   6.6s\n",
            "[CV]  learning_rate=0.1, max_depth=20, n_estimators=100 ..............\n",
            "[CV]   learning_rate=0.1, max_depth=20, n_estimators=100, score=0.699, total=   6.7s\n",
            "[CV]  learning_rate=0.1, max_depth=20, n_estimators=100 ..............\n",
            "[CV]   learning_rate=0.1, max_depth=20, n_estimators=100, score=0.708, total=   6.7s\n",
            "[CV]  learning_rate=0.1, max_depth=20, n_estimators=100 ..............\n",
            "[CV]   learning_rate=0.1, max_depth=20, n_estimators=100, score=0.700, total=   6.6s\n",
            "[CV]  learning_rate=0.1, max_depth=20, n_estimators=100 ..............\n",
            "[CV]   learning_rate=0.1, max_depth=20, n_estimators=100, score=0.698, total=   6.7s\n",
            "[CV]  learning_rate=0.1, max_depth=20, n_estimators=200 ..............\n",
            "[CV]   learning_rate=0.1, max_depth=20, n_estimators=200, score=0.688, total=  12.5s\n",
            "[CV]  learning_rate=0.1, max_depth=20, n_estimators=200 ..............\n",
            "[CV]   learning_rate=0.1, max_depth=20, n_estimators=200, score=0.699, total=  12.8s\n",
            "[CV]  learning_rate=0.1, max_depth=20, n_estimators=200 ..............\n",
            "[CV]   learning_rate=0.1, max_depth=20, n_estimators=200, score=0.707, total=  12.5s\n",
            "[CV]  learning_rate=0.1, max_depth=20, n_estimators=200 ..............\n",
            "[CV]   learning_rate=0.1, max_depth=20, n_estimators=200, score=0.693, total=  12.5s\n",
            "[CV]  learning_rate=0.1, max_depth=20, n_estimators=200 ..............\n",
            "[CV]   learning_rate=0.1, max_depth=20, n_estimators=200, score=0.695, total=  12.7s\n",
            "[CV]  learning_rate=0.01, max_depth=3, n_estimators=10 ...............\n",
            "[CV]   learning_rate=0.01, max_depth=3, n_estimators=10, score=0.696, total=   0.1s\n",
            "[CV]  learning_rate=0.01, max_depth=3, n_estimators=10 ...............\n",
            "[CV]   learning_rate=0.01, max_depth=3, n_estimators=10, score=0.710, total=   0.1s\n",
            "[CV]  learning_rate=0.01, max_depth=3, n_estimators=10 ...............\n",
            "[CV]   learning_rate=0.01, max_depth=3, n_estimators=10, score=0.712, total=   0.1s\n",
            "[CV]  learning_rate=0.01, max_depth=3, n_estimators=10 ...............\n",
            "[CV]   learning_rate=0.01, max_depth=3, n_estimators=10, score=0.718, total=   0.1s\n",
            "[CV]  learning_rate=0.01, max_depth=3, n_estimators=10 ...............\n",
            "[CV]   learning_rate=0.01, max_depth=3, n_estimators=10, score=0.700, total=   0.1s\n",
            "[CV]  learning_rate=0.01, max_depth=3, n_estimators=50 ...............\n",
            "[CV]   learning_rate=0.01, max_depth=3, n_estimators=50, score=0.720, total=   0.5s\n",
            "[CV]  learning_rate=0.01, max_depth=3, n_estimators=50 ...............\n",
            "[CV]   learning_rate=0.01, max_depth=3, n_estimators=50, score=0.726, total=   0.5s\n",
            "[CV]  learning_rate=0.01, max_depth=3, n_estimators=50 ...............\n",
            "[CV]   learning_rate=0.01, max_depth=3, n_estimators=50, score=0.742, total=   0.5s\n",
            "[CV]  learning_rate=0.01, max_depth=3, n_estimators=50 ...............\n",
            "[CV]   learning_rate=0.01, max_depth=3, n_estimators=50, score=0.739, total=   0.5s\n",
            "[CV]  learning_rate=0.01, max_depth=3, n_estimators=50 ...............\n",
            "[CV]   learning_rate=0.01, max_depth=3, n_estimators=50, score=0.722, total=   0.5s\n",
            "[CV]  learning_rate=0.01, max_depth=3, n_estimators=100 ..............\n",
            "[CV]   learning_rate=0.01, max_depth=3, n_estimators=100, score=0.726, total=   1.0s\n",
            "[CV]  learning_rate=0.01, max_depth=3, n_estimators=100 ..............\n",
            "[CV]   learning_rate=0.01, max_depth=3, n_estimators=100, score=0.730, total=   1.0s\n",
            "[CV]  learning_rate=0.01, max_depth=3, n_estimators=100 ..............\n",
            "[CV]   learning_rate=0.01, max_depth=3, n_estimators=100, score=0.746, total=   1.0s\n",
            "[CV]  learning_rate=0.01, max_depth=3, n_estimators=100 ..............\n",
            "[CV]   learning_rate=0.01, max_depth=3, n_estimators=100, score=0.749, total=   1.0s\n",
            "[CV]  learning_rate=0.01, max_depth=3, n_estimators=100 ..............\n",
            "[CV]   learning_rate=0.01, max_depth=3, n_estimators=100, score=0.729, total=   1.0s\n",
            "[CV]  learning_rate=0.01, max_depth=3, n_estimators=200 ..............\n",
            "[CV]   learning_rate=0.01, max_depth=3, n_estimators=200, score=0.728, total=   1.9s\n",
            "[CV]  learning_rate=0.01, max_depth=3, n_estimators=200 ..............\n",
            "[CV]   learning_rate=0.01, max_depth=3, n_estimators=200, score=0.730, total=   1.9s\n",
            "[CV]  learning_rate=0.01, max_depth=3, n_estimators=200 ..............\n",
            "[CV]   learning_rate=0.01, max_depth=3, n_estimators=200, score=0.743, total=   1.9s\n",
            "[CV]  learning_rate=0.01, max_depth=3, n_estimators=200 ..............\n",
            "[CV]   learning_rate=0.01, max_depth=3, n_estimators=200, score=0.749, total=   1.9s\n",
            "[CV]  learning_rate=0.01, max_depth=3, n_estimators=200 ..............\n",
            "[CV]   learning_rate=0.01, max_depth=3, n_estimators=200, score=0.730, total=   1.9s\n",
            "[CV]  learning_rate=0.01, max_depth=5, n_estimators=10 ...............\n",
            "[CV]   learning_rate=0.01, max_depth=5, n_estimators=10, score=0.712, total=   0.2s\n",
            "[CV]  learning_rate=0.01, max_depth=5, n_estimators=10 ...............\n",
            "[CV]   learning_rate=0.01, max_depth=5, n_estimators=10, score=0.723, total=   0.2s\n",
            "[CV]  learning_rate=0.01, max_depth=5, n_estimators=10 ...............\n",
            "[CV]   learning_rate=0.01, max_depth=5, n_estimators=10, score=0.737, total=   0.2s\n",
            "[CV]  learning_rate=0.01, max_depth=5, n_estimators=10 ...............\n",
            "[CV]   learning_rate=0.01, max_depth=5, n_estimators=10, score=0.732, total=   0.2s\n",
            "[CV]  learning_rate=0.01, max_depth=5, n_estimators=10 ...............\n",
            "[CV]   learning_rate=0.01, max_depth=5, n_estimators=10, score=0.730, total=   0.2s\n",
            "[CV]  learning_rate=0.01, max_depth=5, n_estimators=50 ...............\n",
            "[CV]   learning_rate=0.01, max_depth=5, n_estimators=50, score=0.728, total=   0.8s\n",
            "[CV]  learning_rate=0.01, max_depth=5, n_estimators=50 ...............\n",
            "[CV]   learning_rate=0.01, max_depth=5, n_estimators=50, score=0.729, total=   0.8s\n",
            "[CV]  learning_rate=0.01, max_depth=5, n_estimators=50 ...............\n",
            "[CV]   learning_rate=0.01, max_depth=5, n_estimators=50, score=0.740, total=   0.8s\n",
            "[CV]  learning_rate=0.01, max_depth=5, n_estimators=50 ...............\n",
            "[CV]   learning_rate=0.01, max_depth=5, n_estimators=50, score=0.744, total=   0.8s\n",
            "[CV]  learning_rate=0.01, max_depth=5, n_estimators=50 ...............\n",
            "[CV]   learning_rate=0.01, max_depth=5, n_estimators=50, score=0.731, total=   0.8s\n",
            "[CV]  learning_rate=0.01, max_depth=5, n_estimators=100 ..............\n",
            "[CV]   learning_rate=0.01, max_depth=5, n_estimators=100, score=0.727, total=   1.5s\n",
            "[CV]  learning_rate=0.01, max_depth=5, n_estimators=100 ..............\n",
            "[CV]   learning_rate=0.01, max_depth=5, n_estimators=100, score=0.734, total=   1.5s\n",
            "[CV]  learning_rate=0.01, max_depth=5, n_estimators=100 ..............\n",
            "[CV]   learning_rate=0.01, max_depth=5, n_estimators=100, score=0.735, total=   1.5s\n",
            "[CV]  learning_rate=0.01, max_depth=5, n_estimators=100 ..............\n",
            "[CV]   learning_rate=0.01, max_depth=5, n_estimators=100, score=0.744, total=   1.5s\n",
            "[CV]  learning_rate=0.01, max_depth=5, n_estimators=100 ..............\n",
            "[CV]   learning_rate=0.01, max_depth=5, n_estimators=100, score=0.730, total=   1.5s\n",
            "[CV]  learning_rate=0.01, max_depth=5, n_estimators=200 ..............\n",
            "[CV]   learning_rate=0.01, max_depth=5, n_estimators=200, score=0.724, total=   2.9s\n",
            "[CV]  learning_rate=0.01, max_depth=5, n_estimators=200 ..............\n",
            "[CV]   learning_rate=0.01, max_depth=5, n_estimators=200, score=0.732, total=   2.9s\n",
            "[CV]  learning_rate=0.01, max_depth=5, n_estimators=200 ..............\n",
            "[CV]   learning_rate=0.01, max_depth=5, n_estimators=200, score=0.738, total=   2.9s\n",
            "[CV]  learning_rate=0.01, max_depth=5, n_estimators=200 ..............\n",
            "[CV]   learning_rate=0.01, max_depth=5, n_estimators=200, score=0.743, total=   2.9s\n",
            "[CV]  learning_rate=0.01, max_depth=5, n_estimators=200 ..............\n",
            "[CV]   learning_rate=0.01, max_depth=5, n_estimators=200, score=0.729, total=   2.9s\n",
            "[CV]  learning_rate=0.01, max_depth=10, n_estimators=10 ..............\n",
            "[CV]   learning_rate=0.01, max_depth=10, n_estimators=10, score=0.709, total=   0.4s\n",
            "[CV]  learning_rate=0.01, max_depth=10, n_estimators=10 ..............\n",
            "[CV]   learning_rate=0.01, max_depth=10, n_estimators=10, score=0.721, total=   0.4s\n",
            "[CV]  learning_rate=0.01, max_depth=10, n_estimators=10 ..............\n",
            "[CV]   learning_rate=0.01, max_depth=10, n_estimators=10, score=0.727, total=   0.4s\n",
            "[CV]  learning_rate=0.01, max_depth=10, n_estimators=10 ..............\n",
            "[CV]   learning_rate=0.01, max_depth=10, n_estimators=10, score=0.726, total=   0.4s\n",
            "[CV]  learning_rate=0.01, max_depth=10, n_estimators=10 ..............\n",
            "[CV]   learning_rate=0.01, max_depth=10, n_estimators=10, score=0.721, total=   0.4s\n",
            "[CV]  learning_rate=0.01, max_depth=10, n_estimators=50 ..............\n",
            "[CV]   learning_rate=0.01, max_depth=10, n_estimators=50, score=0.711, total=   1.7s\n",
            "[CV]  learning_rate=0.01, max_depth=10, n_estimators=50 ..............\n",
            "[CV]   learning_rate=0.01, max_depth=10, n_estimators=50, score=0.724, total=   1.7s\n",
            "[CV]  learning_rate=0.01, max_depth=10, n_estimators=50 ..............\n",
            "[CV]   learning_rate=0.01, max_depth=10, n_estimators=50, score=0.725, total=   1.7s\n",
            "[CV]  learning_rate=0.01, max_depth=10, n_estimators=50 ..............\n",
            "[CV]   learning_rate=0.01, max_depth=10, n_estimators=50, score=0.729, total=   1.7s\n",
            "[CV]  learning_rate=0.01, max_depth=10, n_estimators=50 ..............\n",
            "[CV]   learning_rate=0.01, max_depth=10, n_estimators=50, score=0.724, total=   1.7s\n",
            "[CV]  learning_rate=0.01, max_depth=10, n_estimators=100 .............\n",
            "[CV]   learning_rate=0.01, max_depth=10, n_estimators=100, score=0.711, total=   3.0s\n",
            "[CV]  learning_rate=0.01, max_depth=10, n_estimators=100 .............\n",
            "[CV]   learning_rate=0.01, max_depth=10, n_estimators=100, score=0.721, total=   3.0s\n",
            "[CV]  learning_rate=0.01, max_depth=10, n_estimators=100 .............\n",
            "[CV]   learning_rate=0.01, max_depth=10, n_estimators=100, score=0.725, total=   3.0s\n",
            "[CV]  learning_rate=0.01, max_depth=10, n_estimators=100 .............\n",
            "[CV]   learning_rate=0.01, max_depth=10, n_estimators=100, score=0.728, total=   3.0s\n",
            "[CV]  learning_rate=0.01, max_depth=10, n_estimators=100 .............\n",
            "[CV]   learning_rate=0.01, max_depth=10, n_estimators=100, score=0.722, total=   3.0s\n",
            "[CV]  learning_rate=0.01, max_depth=10, n_estimators=200 .............\n",
            "[CV]   learning_rate=0.01, max_depth=10, n_estimators=200, score=0.700, total=   5.8s\n",
            "[CV]  learning_rate=0.01, max_depth=10, n_estimators=200 .............\n",
            "[CV]   learning_rate=0.01, max_depth=10, n_estimators=200, score=0.721, total=   5.7s\n",
            "[CV]  learning_rate=0.01, max_depth=10, n_estimators=200 .............\n",
            "[CV]   learning_rate=0.01, max_depth=10, n_estimators=200, score=0.718, total=   5.7s\n",
            "[CV]  learning_rate=0.01, max_depth=10, n_estimators=200 .............\n",
            "[CV]   learning_rate=0.01, max_depth=10, n_estimators=200, score=0.719, total=   5.7s\n",
            "[CV]  learning_rate=0.01, max_depth=10, n_estimators=200 .............\n",
            "[CV]   learning_rate=0.01, max_depth=10, n_estimators=200, score=0.709, total=   5.7s\n",
            "[CV]  learning_rate=0.01, max_depth=20, n_estimators=10 ..............\n",
            "[CV]   learning_rate=0.01, max_depth=20, n_estimators=10, score=0.691, total=   0.8s\n",
            "[CV]  learning_rate=0.01, max_depth=20, n_estimators=10 ..............\n",
            "[CV]   learning_rate=0.01, max_depth=20, n_estimators=10, score=0.703, total=   0.8s\n",
            "[CV]  learning_rate=0.01, max_depth=20, n_estimators=10 ..............\n",
            "[CV]   learning_rate=0.01, max_depth=20, n_estimators=10, score=0.708, total=   0.8s\n",
            "[CV]  learning_rate=0.01, max_depth=20, n_estimators=10 ..............\n",
            "[CV]   learning_rate=0.01, max_depth=20, n_estimators=10, score=0.701, total=   0.8s\n",
            "[CV]  learning_rate=0.01, max_depth=20, n_estimators=10 ..............\n",
            "[CV]   learning_rate=0.01, max_depth=20, n_estimators=10, score=0.696, total=   0.8s\n",
            "[CV]  learning_rate=0.01, max_depth=20, n_estimators=50 ..............\n",
            "[CV]   learning_rate=0.01, max_depth=20, n_estimators=50, score=0.687, total=   3.7s\n",
            "[CV]  learning_rate=0.01, max_depth=20, n_estimators=50 ..............\n",
            "[CV]   learning_rate=0.01, max_depth=20, n_estimators=50, score=0.697, total=   3.7s\n",
            "[CV]  learning_rate=0.01, max_depth=20, n_estimators=50 ..............\n",
            "[CV]   learning_rate=0.01, max_depth=20, n_estimators=50, score=0.708, total=   3.7s\n",
            "[CV]  learning_rate=0.01, max_depth=20, n_estimators=50 ..............\n",
            "[CV]   learning_rate=0.01, max_depth=20, n_estimators=50, score=0.700, total=   3.7s\n",
            "[CV]  learning_rate=0.01, max_depth=20, n_estimators=50 ..............\n",
            "[CV]   learning_rate=0.01, max_depth=20, n_estimators=50, score=0.696, total=   3.7s\n",
            "[CV]  learning_rate=0.01, max_depth=20, n_estimators=100 .............\n",
            "[CV]   learning_rate=0.01, max_depth=20, n_estimators=100, score=0.688, total=   6.6s\n",
            "[CV]  learning_rate=0.01, max_depth=20, n_estimators=100 .............\n",
            "[CV]   learning_rate=0.01, max_depth=20, n_estimators=100, score=0.699, total=   6.7s\n",
            "[CV]  learning_rate=0.01, max_depth=20, n_estimators=100 .............\n",
            "[CV]   learning_rate=0.01, max_depth=20, n_estimators=100, score=0.708, total=   6.7s\n",
            "[CV]  learning_rate=0.01, max_depth=20, n_estimators=100 .............\n",
            "[CV]   learning_rate=0.01, max_depth=20, n_estimators=100, score=0.700, total=   6.6s\n",
            "[CV]  learning_rate=0.01, max_depth=20, n_estimators=100 .............\n",
            "[CV]   learning_rate=0.01, max_depth=20, n_estimators=100, score=0.698, total=   6.7s\n",
            "[CV]  learning_rate=0.01, max_depth=20, n_estimators=200 .............\n",
            "[CV]   learning_rate=0.01, max_depth=20, n_estimators=200, score=0.688, total=  12.4s\n",
            "[CV]  learning_rate=0.01, max_depth=20, n_estimators=200 .............\n",
            "[CV]   learning_rate=0.01, max_depth=20, n_estimators=200, score=0.699, total=  12.8s\n",
            "[CV]  learning_rate=0.01, max_depth=20, n_estimators=200 .............\n",
            "[CV]   learning_rate=0.01, max_depth=20, n_estimators=200, score=0.707, total=  12.5s\n",
            "[CV]  learning_rate=0.01, max_depth=20, n_estimators=200 .............\n",
            "[CV]   learning_rate=0.01, max_depth=20, n_estimators=200, score=0.693, total=  12.4s\n",
            "[CV]  learning_rate=0.01, max_depth=20, n_estimators=200 .............\n",
            "[CV]   learning_rate=0.01, max_depth=20, n_estimators=200, score=0.695, total=  12.6s\n",
            "[CV]  learning_rate=0.001, max_depth=3, n_estimators=10 ..............\n",
            "[CV]   learning_rate=0.001, max_depth=3, n_estimators=10, score=0.696, total=   0.1s\n",
            "[CV]  learning_rate=0.001, max_depth=3, n_estimators=10 ..............\n",
            "[CV]   learning_rate=0.001, max_depth=3, n_estimators=10, score=0.710, total=   0.1s\n",
            "[CV]  learning_rate=0.001, max_depth=3, n_estimators=10 ..............\n",
            "[CV]   learning_rate=0.001, max_depth=3, n_estimators=10, score=0.712, total=   0.1s\n",
            "[CV]  learning_rate=0.001, max_depth=3, n_estimators=10 ..............\n",
            "[CV]   learning_rate=0.001, max_depth=3, n_estimators=10, score=0.718, total=   0.1s\n",
            "[CV]  learning_rate=0.001, max_depth=3, n_estimators=10 ..............\n",
            "[CV]   learning_rate=0.001, max_depth=3, n_estimators=10, score=0.700, total=   0.1s\n",
            "[CV]  learning_rate=0.001, max_depth=3, n_estimators=50 ..............\n",
            "[CV]   learning_rate=0.001, max_depth=3, n_estimators=50, score=0.720, total=   0.5s\n",
            "[CV]  learning_rate=0.001, max_depth=3, n_estimators=50 ..............\n",
            "[CV]   learning_rate=0.001, max_depth=3, n_estimators=50, score=0.726, total=   0.5s\n",
            "[CV]  learning_rate=0.001, max_depth=3, n_estimators=50 ..............\n",
            "[CV]   learning_rate=0.001, max_depth=3, n_estimators=50, score=0.742, total=   0.5s\n",
            "[CV]  learning_rate=0.001, max_depth=3, n_estimators=50 ..............\n",
            "[CV]   learning_rate=0.001, max_depth=3, n_estimators=50, score=0.739, total=   0.5s\n",
            "[CV]  learning_rate=0.001, max_depth=3, n_estimators=50 ..............\n",
            "[CV]   learning_rate=0.001, max_depth=3, n_estimators=50, score=0.722, total=   0.5s\n",
            "[CV]  learning_rate=0.001, max_depth=3, n_estimators=100 .............\n",
            "[CV]   learning_rate=0.001, max_depth=3, n_estimators=100, score=0.726, total=   1.0s\n",
            "[CV]  learning_rate=0.001, max_depth=3, n_estimators=100 .............\n",
            "[CV]   learning_rate=0.001, max_depth=3, n_estimators=100, score=0.730, total=   1.0s\n",
            "[CV]  learning_rate=0.001, max_depth=3, n_estimators=100 .............\n",
            "[CV]   learning_rate=0.001, max_depth=3, n_estimators=100, score=0.746, total=   1.0s\n",
            "[CV]  learning_rate=0.001, max_depth=3, n_estimators=100 .............\n",
            "[CV]   learning_rate=0.001, max_depth=3, n_estimators=100, score=0.749, total=   1.0s\n",
            "[CV]  learning_rate=0.001, max_depth=3, n_estimators=100 .............\n",
            "[CV]   learning_rate=0.001, max_depth=3, n_estimators=100, score=0.729, total=   1.0s\n",
            "[CV]  learning_rate=0.001, max_depth=3, n_estimators=200 .............\n",
            "[CV]   learning_rate=0.001, max_depth=3, n_estimators=200, score=0.728, total=   1.9s\n",
            "[CV]  learning_rate=0.001, max_depth=3, n_estimators=200 .............\n",
            "[CV]   learning_rate=0.001, max_depth=3, n_estimators=200, score=0.730, total=   1.9s\n",
            "[CV]  learning_rate=0.001, max_depth=3, n_estimators=200 .............\n",
            "[CV]   learning_rate=0.001, max_depth=3, n_estimators=200, score=0.743, total=   1.9s\n",
            "[CV]  learning_rate=0.001, max_depth=3, n_estimators=200 .............\n",
            "[CV]   learning_rate=0.001, max_depth=3, n_estimators=200, score=0.749, total=   1.9s\n",
            "[CV]  learning_rate=0.001, max_depth=3, n_estimators=200 .............\n",
            "[CV]   learning_rate=0.001, max_depth=3, n_estimators=200, score=0.730, total=   1.9s\n",
            "[CV]  learning_rate=0.001, max_depth=5, n_estimators=10 ..............\n",
            "[CV]   learning_rate=0.001, max_depth=5, n_estimators=10, score=0.712, total=   0.2s\n",
            "[CV]  learning_rate=0.001, max_depth=5, n_estimators=10 ..............\n",
            "[CV]   learning_rate=0.001, max_depth=5, n_estimators=10, score=0.723, total=   0.2s\n",
            "[CV]  learning_rate=0.001, max_depth=5, n_estimators=10 ..............\n",
            "[CV]   learning_rate=0.001, max_depth=5, n_estimators=10, score=0.737, total=   0.2s\n",
            "[CV]  learning_rate=0.001, max_depth=5, n_estimators=10 ..............\n",
            "[CV]   learning_rate=0.001, max_depth=5, n_estimators=10, score=0.732, total=   0.2s\n",
            "[CV]  learning_rate=0.001, max_depth=5, n_estimators=10 ..............\n",
            "[CV]   learning_rate=0.001, max_depth=5, n_estimators=10, score=0.730, total=   0.2s\n",
            "[CV]  learning_rate=0.001, max_depth=5, n_estimators=50 ..............\n",
            "[CV]   learning_rate=0.001, max_depth=5, n_estimators=50, score=0.728, total=   0.8s\n",
            "[CV]  learning_rate=0.001, max_depth=5, n_estimators=50 ..............\n",
            "[CV]   learning_rate=0.001, max_depth=5, n_estimators=50, score=0.729, total=   0.8s\n",
            "[CV]  learning_rate=0.001, max_depth=5, n_estimators=50 ..............\n",
            "[CV]   learning_rate=0.001, max_depth=5, n_estimators=50, score=0.740, total=   0.8s\n",
            "[CV]  learning_rate=0.001, max_depth=5, n_estimators=50 ..............\n",
            "[CV]   learning_rate=0.001, max_depth=5, n_estimators=50, score=0.744, total=   0.8s\n",
            "[CV]  learning_rate=0.001, max_depth=5, n_estimators=50 ..............\n",
            "[CV]   learning_rate=0.001, max_depth=5, n_estimators=50, score=0.731, total=   0.8s\n",
            "[CV]  learning_rate=0.001, max_depth=5, n_estimators=100 .............\n",
            "[CV]   learning_rate=0.001, max_depth=5, n_estimators=100, score=0.727, total=   1.5s\n",
            "[CV]  learning_rate=0.001, max_depth=5, n_estimators=100 .............\n",
            "[CV]   learning_rate=0.001, max_depth=5, n_estimators=100, score=0.734, total=   1.5s\n",
            "[CV]  learning_rate=0.001, max_depth=5, n_estimators=100 .............\n",
            "[CV]   learning_rate=0.001, max_depth=5, n_estimators=100, score=0.735, total=   1.5s\n",
            "[CV]  learning_rate=0.001, max_depth=5, n_estimators=100 .............\n",
            "[CV]   learning_rate=0.001, max_depth=5, n_estimators=100, score=0.744, total=   1.5s\n",
            "[CV]  learning_rate=0.001, max_depth=5, n_estimators=100 .............\n",
            "[CV]   learning_rate=0.001, max_depth=5, n_estimators=100, score=0.730, total=   1.5s\n",
            "[CV]  learning_rate=0.001, max_depth=5, n_estimators=200 .............\n",
            "[CV]   learning_rate=0.001, max_depth=5, n_estimators=200, score=0.724, total=   2.9s\n",
            "[CV]  learning_rate=0.001, max_depth=5, n_estimators=200 .............\n",
            "[CV]   learning_rate=0.001, max_depth=5, n_estimators=200, score=0.732, total=   2.9s\n",
            "[CV]  learning_rate=0.001, max_depth=5, n_estimators=200 .............\n",
            "[CV]   learning_rate=0.001, max_depth=5, n_estimators=200, score=0.738, total=   2.9s\n",
            "[CV]  learning_rate=0.001, max_depth=5, n_estimators=200 .............\n",
            "[CV]   learning_rate=0.001, max_depth=5, n_estimators=200, score=0.743, total=   2.9s\n",
            "[CV]  learning_rate=0.001, max_depth=5, n_estimators=200 .............\n",
            "[CV]   learning_rate=0.001, max_depth=5, n_estimators=200, score=0.729, total=   2.9s\n",
            "[CV]  learning_rate=0.001, max_depth=10, n_estimators=10 .............\n",
            "[CV]   learning_rate=0.001, max_depth=10, n_estimators=10, score=0.709, total=   0.4s\n",
            "[CV]  learning_rate=0.001, max_depth=10, n_estimators=10 .............\n",
            "[CV]   learning_rate=0.001, max_depth=10, n_estimators=10, score=0.721, total=   0.4s\n",
            "[CV]  learning_rate=0.001, max_depth=10, n_estimators=10 .............\n",
            "[CV]   learning_rate=0.001, max_depth=10, n_estimators=10, score=0.727, total=   0.4s\n",
            "[CV]  learning_rate=0.001, max_depth=10, n_estimators=10 .............\n",
            "[CV]   learning_rate=0.001, max_depth=10, n_estimators=10, score=0.726, total=   0.4s\n",
            "[CV]  learning_rate=0.001, max_depth=10, n_estimators=10 .............\n",
            "[CV]   learning_rate=0.001, max_depth=10, n_estimators=10, score=0.721, total=   0.4s\n",
            "[CV]  learning_rate=0.001, max_depth=10, n_estimators=50 .............\n",
            "[CV]   learning_rate=0.001, max_depth=10, n_estimators=50, score=0.711, total=   1.7s\n",
            "[CV]  learning_rate=0.001, max_depth=10, n_estimators=50 .............\n",
            "[CV]   learning_rate=0.001, max_depth=10, n_estimators=50, score=0.724, total=   1.7s\n",
            "[CV]  learning_rate=0.001, max_depth=10, n_estimators=50 .............\n",
            "[CV]   learning_rate=0.001, max_depth=10, n_estimators=50, score=0.725, total=   1.7s\n",
            "[CV]  learning_rate=0.001, max_depth=10, n_estimators=50 .............\n",
            "[CV]   learning_rate=0.001, max_depth=10, n_estimators=50, score=0.729, total=   1.7s\n",
            "[CV]  learning_rate=0.001, max_depth=10, n_estimators=50 .............\n",
            "[CV]   learning_rate=0.001, max_depth=10, n_estimators=50, score=0.724, total=   1.7s\n",
            "[CV]  learning_rate=0.001, max_depth=10, n_estimators=100 ............\n",
            "[CV]   learning_rate=0.001, max_depth=10, n_estimators=100, score=0.711, total=   3.1s\n",
            "[CV]  learning_rate=0.001, max_depth=10, n_estimators=100 ............\n",
            "[CV]   learning_rate=0.001, max_depth=10, n_estimators=100, score=0.721, total=   3.1s\n",
            "[CV]  learning_rate=0.001, max_depth=10, n_estimators=100 ............\n",
            "[CV]   learning_rate=0.001, max_depth=10, n_estimators=100, score=0.725, total=   3.1s\n",
            "[CV]  learning_rate=0.001, max_depth=10, n_estimators=100 ............\n",
            "[CV]   learning_rate=0.001, max_depth=10, n_estimators=100, score=0.728, total=   3.0s\n",
            "[CV]  learning_rate=0.001, max_depth=10, n_estimators=100 ............\n",
            "[CV]   learning_rate=0.001, max_depth=10, n_estimators=100, score=0.722, total=   3.0s\n",
            "[CV]  learning_rate=0.001, max_depth=10, n_estimators=200 ............\n",
            "[CV]   learning_rate=0.001, max_depth=10, n_estimators=200, score=0.700, total=   5.8s\n",
            "[CV]  learning_rate=0.001, max_depth=10, n_estimators=200 ............\n",
            "[CV]   learning_rate=0.001, max_depth=10, n_estimators=200, score=0.721, total=   5.8s\n",
            "[CV]  learning_rate=0.001, max_depth=10, n_estimators=200 ............\n",
            "[CV]   learning_rate=0.001, max_depth=10, n_estimators=200, score=0.718, total=   5.8s\n",
            "[CV]  learning_rate=0.001, max_depth=10, n_estimators=200 ............\n",
            "[CV]   learning_rate=0.001, max_depth=10, n_estimators=200, score=0.719, total=   5.7s\n",
            "[CV]  learning_rate=0.001, max_depth=10, n_estimators=200 ............\n",
            "[CV]   learning_rate=0.001, max_depth=10, n_estimators=200, score=0.709, total=   5.7s\n",
            "[CV]  learning_rate=0.001, max_depth=20, n_estimators=10 .............\n",
            "[CV]   learning_rate=0.001, max_depth=20, n_estimators=10, score=0.691, total=   0.8s\n",
            "[CV]  learning_rate=0.001, max_depth=20, n_estimators=10 .............\n",
            "[CV]   learning_rate=0.001, max_depth=20, n_estimators=10, score=0.703, total=   0.8s\n",
            "[CV]  learning_rate=0.001, max_depth=20, n_estimators=10 .............\n",
            "[CV]   learning_rate=0.001, max_depth=20, n_estimators=10, score=0.708, total=   0.8s\n",
            "[CV]  learning_rate=0.001, max_depth=20, n_estimators=10 .............\n",
            "[CV]   learning_rate=0.001, max_depth=20, n_estimators=10, score=0.701, total=   0.8s\n",
            "[CV]  learning_rate=0.001, max_depth=20, n_estimators=10 .............\n",
            "[CV]   learning_rate=0.001, max_depth=20, n_estimators=10, score=0.696, total=   0.8s\n",
            "[CV]  learning_rate=0.001, max_depth=20, n_estimators=50 .............\n",
            "[CV]   learning_rate=0.001, max_depth=20, n_estimators=50, score=0.687, total=   3.7s\n",
            "[CV]  learning_rate=0.001, max_depth=20, n_estimators=50 .............\n",
            "[CV]   learning_rate=0.001, max_depth=20, n_estimators=50, score=0.697, total=   3.7s\n",
            "[CV]  learning_rate=0.001, max_depth=20, n_estimators=50 .............\n",
            "[CV]   learning_rate=0.001, max_depth=20, n_estimators=50, score=0.708, total=   3.7s\n",
            "[CV]  learning_rate=0.001, max_depth=20, n_estimators=50 .............\n",
            "[CV]   learning_rate=0.001, max_depth=20, n_estimators=50, score=0.700, total=   3.7s\n",
            "[CV]  learning_rate=0.001, max_depth=20, n_estimators=50 .............\n",
            "[CV]   learning_rate=0.001, max_depth=20, n_estimators=50, score=0.696, total=   3.7s\n",
            "[CV]  learning_rate=0.001, max_depth=20, n_estimators=100 ............\n",
            "[CV]   learning_rate=0.001, max_depth=20, n_estimators=100, score=0.688, total=   6.6s\n",
            "[CV]  learning_rate=0.001, max_depth=20, n_estimators=100 ............\n",
            "[CV]   learning_rate=0.001, max_depth=20, n_estimators=100, score=0.699, total=   6.7s\n",
            "[CV]  learning_rate=0.001, max_depth=20, n_estimators=100 ............\n",
            "[CV]   learning_rate=0.001, max_depth=20, n_estimators=100, score=0.708, total=   6.7s\n",
            "[CV]  learning_rate=0.001, max_depth=20, n_estimators=100 ............\n",
            "[CV]   learning_rate=0.001, max_depth=20, n_estimators=100, score=0.700, total=   6.6s\n",
            "[CV]  learning_rate=0.001, max_depth=20, n_estimators=100 ............\n",
            "[CV]   learning_rate=0.001, max_depth=20, n_estimators=100, score=0.698, total=   6.7s\n",
            "[CV]  learning_rate=0.001, max_depth=20, n_estimators=200 ............\n",
            "[CV]   learning_rate=0.001, max_depth=20, n_estimators=200, score=0.688, total=  12.4s\n",
            "[CV]  learning_rate=0.001, max_depth=20, n_estimators=200 ............\n",
            "[CV]   learning_rate=0.001, max_depth=20, n_estimators=200, score=0.699, total=  12.8s\n",
            "[CV]  learning_rate=0.001, max_depth=20, n_estimators=200 ............\n",
            "[CV]   learning_rate=0.001, max_depth=20, n_estimators=200, score=0.707, total=  12.5s\n",
            "[CV]  learning_rate=0.001, max_depth=20, n_estimators=200 ............\n",
            "[CV]   learning_rate=0.001, max_depth=20, n_estimators=200, score=0.693, total=  12.4s\n",
            "[CV]  learning_rate=0.001, max_depth=20, n_estimators=200 ............\n",
            "[CV]   learning_rate=0.001, max_depth=20, n_estimators=200, score=0.695, total=  12.6s\n"
          ]
        },
        {
          "output_type": "stream",
          "name": "stderr",
          "text": [
            "[Parallel(n_jobs=1)]: Done 400 out of 400 | elapsed: 18.1min finished\n"
          ]
        },
        {
          "output_type": "execute_result",
          "data": {
            "text/plain": [
              "{' learning_rate': 1, 'max_depth': 3, 'n_estimators': 100}"
            ]
          },
          "metadata": {},
          "execution_count": 87
        }
      ]
    },
    {
      "cell_type": "code",
      "metadata": {
        "colab": {
          "base_uri": "https://localhost:8080/"
        },
        "id": "DN9bUL6Hq8wB",
        "outputId": "62ac8ec1-a878-495f-86be-4accd597d7c6"
      },
      "source": [
        "new_model = xgc(learning_rate =  1, max_depth =  5, n_estimators =  50)\n",
        "new_model.fit(X,y)\n",
        "y_new_predict = new_model.predict(X)\n",
        "accuracy_score(y,y_new_predict)\n"
      ],
      "execution_count": 88,
      "outputs": [
        {
          "output_type": "execute_result",
          "data": {
            "text/plain": [
              "0.8128409846972722"
            ]
          },
          "metadata": {},
          "execution_count": 88
        }
      ]
    },
    {
      "cell_type": "code",
      "metadata": {
        "id": "9K2TnvYJrwT0"
      },
      "source": [
        ""
      ],
      "execution_count": 89,
      "outputs": []
    },
    {
      "cell_type": "code",
      "metadata": {
        "id": "8zeOvIhuACJw"
      },
      "source": [
        ""
      ],
      "execution_count": 89,
      "outputs": []
    }
  ]
}